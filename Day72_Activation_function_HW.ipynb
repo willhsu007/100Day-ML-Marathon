{
  "nbformat": 4,
  "nbformat_minor": 0,
  "metadata": {
    "kernelspec": {
      "display_name": "Python 3",
      "language": "python",
      "name": "python3"
    },
    "language_info": {
      "codemirror_mode": {
        "name": "ipython",
        "version": 3
      },
      "file_extension": ".py",
      "mimetype": "text/x-python",
      "name": "python",
      "nbconvert_exporter": "python",
      "pygments_lexer": "ipython3",
      "version": "3.7.0"
    },
    "colab": {
      "name": "Day72-Activation_function_HW.ipynb",
      "provenance": []
    }
  },
  "cells": [
    {
      "cell_type": "markdown",
      "metadata": {
        "id": "2CnOQqNCP642",
        "colab_type": "text"
      },
      "source": [
        "# 作業目標:\n",
        "    寫出 ReLU & dReLU 一階導數\n",
        "    並列印\n"
      ]
    },
    {
      "cell_type": "markdown",
      "metadata": {
        "id": "SrtdV-TeP647",
        "colab_type": "text"
      },
      "source": [
        "# 作業重點\n",
        "\n",
        "# Rectified Linear Unit- Relu \n",
        "\n",
        "f(x)=max(0,x)\n"
      ]
    },
    {
      "cell_type": "code",
      "metadata": {
        "id": "kHuFXCU7P649",
        "colab_type": "code",
        "colab": {},
        "outputId": "20b1afc1-53b1-4071-f84a-09dcf51aaf15"
      },
      "source": [
        "import numpy as np\n",
        "from numpy import *\n",
        "import matplotlib.pylab as plt\n",
        "%matplotlib inline\n",
        "\n",
        "'''\n",
        "def Relu(x):\n",
        "  return  f(x)=max(0,x)\n",
        "print (Relu(x))\n",
        "'''"
      ],
      "execution_count": 0,
      "outputs": [
        {
          "output_type": "execute_result",
          "data": {
            "text/plain": [
              "'\\n作業:\\n    寫出 ReLU & dReLU 一階導數\\n    並列印\\n'"
            ]
          },
          "metadata": {
            "tags": []
          },
          "execution_count": 1
        }
      ]
    },
    {
      "cell_type": "code",
      "metadata": {
        "id": "b0Lg5CpgP65G",
        "colab_type": "code",
        "colab": {}
      },
      "source": [
        ""
      ],
      "execution_count": 0,
      "outputs": []
    }
  ]
}