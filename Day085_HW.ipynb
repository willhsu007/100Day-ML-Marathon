{
  "nbformat": 4,
  "nbformat_minor": 0,
  "metadata": {
    "kernelspec": {
      "name": "python3",
      "display_name": "Python 3"
    },
    "language_info": {
      "codemirror_mode": {
        "name": "ipython",
        "version": 3
      },
      "file_extension": ".py",
      "mimetype": "text/x-python",
      "name": "python",
      "nbconvert_exporter": "python",
      "pygments_lexer": "ipython3",
      "version": "3.6.5"
    },
    "colab": {
      "name": "Day085_HW.ipynb",
      "provenance": [],
      "collapsed_sections": []
    },
    "accelerator": "GPU"
  },
  "cells": [
    {
      "cell_type": "markdown",
      "metadata": {
        "id": "owf-Uaa4uqdp",
        "colab_type": "text"
      },
      "source": [
        "## Work\n",
        "1. 試改變 monitor \"Validation Accuracy\" 並比較結果\n",
        "2. 調整 earlystop 的等待次數至 10, 25 並比較結果"
      ]
    },
    {
      "cell_type": "code",
      "metadata": {
        "id": "UfQyWr8Fuqds",
        "colab_type": "code",
        "colab": {
          "base_uri": "https://localhost:8080/",
          "height": 81
        },
        "outputId": "c8418b22-78ce-484a-d27b-2255fe99281f"
      },
      "source": [
        "import os\n",
        "import keras\n",
        "import matplotlib.pyplot as plt\n",
        "%matplotlib inline\n",
        "\n",
        "\n",
        "# Disable GPU\n",
        "os.environ[\"CUDA_VISIBLE_DEVICES\"] = \"0\""
      ],
      "execution_count": 1,
      "outputs": [
        {
          "output_type": "stream",
          "text": [
            "Using TensorFlow backend.\n"
          ],
          "name": "stderr"
        },
        {
          "output_type": "display_data",
          "data": {
            "text/html": [
              "<p style=\"color: red;\">\n",
              "The default version of TensorFlow in Colab will soon switch to TensorFlow 2.x.<br>\n",
              "We recommend you <a href=\"https://www.tensorflow.org/guide/migrate\" target=\"_blank\">upgrade</a> now \n",
              "or ensure your notebook will continue to use TensorFlow 1.x via the <code>%tensorflow_version 1.x</code> magic:\n",
              "<a href=\"https://colab.research.google.com/notebooks/tensorflow_version.ipynb\" target=\"_blank\">more info</a>.</p>\n"
            ],
            "text/plain": [
              "<IPython.core.display.HTML object>"
            ]
          },
          "metadata": {
            "tags": []
          }
        }
      ]
    },
    {
      "cell_type": "code",
      "metadata": {
        "id": "Nxtc5LoCuqdv",
        "colab_type": "code",
        "colab": {
          "base_uri": "https://localhost:8080/",
          "height": 52
        },
        "outputId": "c38b15cb-eeac-4f2b-fffa-9170a79d9f0b"
      },
      "source": [
        "train, test = keras.datasets.cifar10.load_data()"
      ],
      "execution_count": 2,
      "outputs": [
        {
          "output_type": "stream",
          "text": [
            "Downloading data from https://www.cs.toronto.edu/~kriz/cifar-10-python.tar.gz\n",
            "170500096/170498071 [==============================] - 13s 0us/step\n"
          ],
          "name": "stdout"
        }
      ]
    },
    {
      "cell_type": "code",
      "metadata": {
        "id": "SouxCzK9uqdx",
        "colab_type": "code",
        "colab": {}
      },
      "source": [
        "## 資料前處理\n",
        "def preproc_x(x, flatten=True):\n",
        "    x = x / 255.\n",
        "    if flatten:\n",
        "        x = x.reshape((len(x), -1))\n",
        "    return x\n",
        "\n",
        "def preproc_y(y, num_classes=10):\n",
        "    if y.shape[-1] == 1:\n",
        "        y = keras.utils.to_categorical(y, num_classes)\n",
        "    return y    "
      ],
      "execution_count": 0,
      "outputs": []
    },
    {
      "cell_type": "code",
      "metadata": {
        "id": "0ITIkYTmuqdz",
        "colab_type": "code",
        "colab": {}
      },
      "source": [
        "x_train, y_train = train\n",
        "x_test, y_test = test\n",
        "\n",
        "# Preproc the inputs\n",
        "x_train = preproc_x(x_train)\n",
        "x_test = preproc_x(x_test)\n",
        "\n",
        "# Preprc the outputs\n",
        "y_train = preproc_y(y_train)\n",
        "y_test = preproc_y(y_test)"
      ],
      "execution_count": 0,
      "outputs": []
    },
    {
      "cell_type": "code",
      "metadata": {
        "id": "niT4KHePuqd1",
        "colab_type": "code",
        "colab": {}
      },
      "source": [
        "from keras.layers import BatchNormalization\n",
        "\n",
        "\"\"\"\n",
        "建立神經網路，並加入 BN layer\n",
        "\"\"\"\n",
        "def build_mlp(input_shape, output_units=10, num_neurons=[512, 256, 128]):\n",
        "    input_layer = keras.layers.Input(input_shape)\n",
        "    \n",
        "    for i, n_units in enumerate(num_neurons):\n",
        "        if i == 0:\n",
        "            x = keras.layers.Dense(units=n_units, \n",
        "                                   activation=\"relu\", \n",
        "                                   name=\"hidden_layer\"+str(i+1))(input_layer)\n",
        "            x = BatchNormalization()(x)\n",
        "        else:\n",
        "            x = keras.layers.Dense(units=n_units, \n",
        "                                   activation=\"relu\", \n",
        "                                   name=\"hidden_layer\"+str(i+1))(x)\n",
        "            x = BatchNormalization()(x)\n",
        "    \n",
        "    out = keras.layers.Dense(units=output_units, activation=\"softmax\", name=\"output\")(x)\n",
        "    \n",
        "    model = keras.models.Model(inputs=[input_layer], outputs=[out])\n",
        "    return model"
      ],
      "execution_count": 0,
      "outputs": []
    },
    {
      "cell_type": "code",
      "metadata": {
        "id": "yiJ49lFvuqd3",
        "colab_type": "code",
        "colab": {}
      },
      "source": [
        "## 超參數設定\n",
        "LEARNING_RATE = 1e-3\n",
        "EPOCHS = 50\n",
        "BATCH_SIZE = 1024\n",
        "MOMENTUM = 0.95\n",
        "PATIENCE_RATE = [10, 25]"
      ],
      "execution_count": 0,
      "outputs": []
    },
    {
      "cell_type": "code",
      "metadata": {
        "id": "LYVbf6pvuqd5",
        "colab_type": "code",
        "colab": {
          "base_uri": "https://localhost:8080/",
          "height": 1000
        },
        "outputId": "6e0cc9ef-6baf-4ad3-b051-df8b6f5ad525"
      },
      "source": [
        "\"\"\"\n",
        "# 載入 Callbacks, 並將 monitor 設定為監控 validation loss\n",
        "\"\"\"\n",
        "from keras.callbacks import EarlyStopping\n",
        "patience_rate = 5\n",
        "earlystop = EarlyStopping(monitor=\"val_acc\", \n",
        "                          patience=patience_rate, \n",
        "                          verbose=1\n",
        "                          )\n",
        "\n",
        "results = {}\n",
        "\"\"\"\n",
        "使用迴圈建立不同的帶不同 L1/L2 的模型並訓練\n",
        "\"\"\"\n",
        "for patience_rate in PATIENCE_RATE:\n",
        "    keras.backend.clear_session() # 把舊的 Graph 清掉\n",
        "    print(\"Experiment with patience_rate = %.6f\" % (patience_rate))\n",
        "    model = build_mlp(input_shape=x_train.shape[1:])\n",
        "    model.summary()\n",
        "    optimizer = keras.optimizers.SGD(lr=LEARNING_RATE, nesterov=True, momentum=MOMENTUM)\n",
        "    model.compile(loss=\"categorical_crossentropy\", metrics=[\"accuracy\"], optimizer=optimizer)\n",
        "\n",
        "    model.fit(x_train, y_train, \n",
        "              epochs=EPOCHS, \n",
        "              batch_size=BATCH_SIZE, \n",
        "              validation_data=(x_test, y_test), \n",
        "              shuffle=True,\n",
        "              callbacks=[earlystop])\n",
        "    \n",
        "    # Collect results\n",
        "    train_loss = model.history.history[\"loss\"]\n",
        "    valid_loss = model.history.history[\"val_loss\"]\n",
        "    train_acc = model.history.history[\"acc\"]\n",
        "    valid_acc = model.history.history[\"val_acc\"]\n",
        "    \n",
        "    exp_name_tag = \"patience_rate-%s\" % str(patience_rate)\n",
        "    results[exp_name_tag] = {'train-loss': train_loss,\n",
        "                             'valid-loss': valid_loss,\n",
        "                             'train-acc': train_acc,\n",
        "                             'valid-acc': valid_acc}\n"
      ],
      "execution_count": 11,
      "outputs": [
        {
          "output_type": "stream",
          "text": [
            "Experiment with patience_rate = 10.000000\n",
            "Model: \"model_1\"\n",
            "_________________________________________________________________\n",
            "Layer (type)                 Output Shape              Param #   \n",
            "=================================================================\n",
            "input_1 (InputLayer)         (None, 3072)              0         \n",
            "_________________________________________________________________\n",
            "hidden_layer1 (Dense)        (None, 512)               1573376   \n",
            "_________________________________________________________________\n",
            "batch_normalization_1 (Batch (None, 512)               2048      \n",
            "_________________________________________________________________\n",
            "hidden_layer2 (Dense)        (None, 256)               131328    \n",
            "_________________________________________________________________\n",
            "batch_normalization_2 (Batch (None, 256)               1024      \n",
            "_________________________________________________________________\n",
            "hidden_layer3 (Dense)        (None, 128)               32896     \n",
            "_________________________________________________________________\n",
            "batch_normalization_3 (Batch (None, 128)               512       \n",
            "_________________________________________________________________\n",
            "output (Dense)               (None, 10)                1290      \n",
            "=================================================================\n",
            "Total params: 1,742,474\n",
            "Trainable params: 1,740,682\n",
            "Non-trainable params: 1,792\n",
            "_________________________________________________________________\n",
            "Train on 50000 samples, validate on 10000 samples\n",
            "Epoch 1/50\n",
            "50000/50000 [==============================] - 2s 41us/step - loss: 2.2260 - acc: 0.2706 - val_loss: 2.1385 - val_acc: 0.3216\n",
            "Epoch 2/50\n",
            "50000/50000 [==============================] - 2s 32us/step - loss: 1.7518 - acc: 0.3908 - val_loss: 1.8069 - val_acc: 0.3770\n",
            "Epoch 3/50\n",
            "50000/50000 [==============================] - 1s 30us/step - loss: 1.6227 - acc: 0.4339 - val_loss: 1.6928 - val_acc: 0.4093\n",
            "Epoch 4/50\n",
            "50000/50000 [==============================] - 1s 30us/step - loss: 1.5477 - acc: 0.4606 - val_loss: 1.6368 - val_acc: 0.4248\n",
            "Epoch 5/50\n",
            "50000/50000 [==============================] - 2s 30us/step - loss: 1.4943 - acc: 0.4769 - val_loss: 1.6056 - val_acc: 0.4327\n",
            "Epoch 6/50\n",
            "50000/50000 [==============================] - 2s 30us/step - loss: 1.4494 - acc: 0.4952 - val_loss: 1.5731 - val_acc: 0.4418\n",
            "Epoch 7/50\n",
            "50000/50000 [==============================] - 2s 30us/step - loss: 1.4121 - acc: 0.5080 - val_loss: 1.5436 - val_acc: 0.4486\n",
            "Epoch 8/50\n",
            "50000/50000 [==============================] - 2s 30us/step - loss: 1.3759 - acc: 0.5214 - val_loss: 1.5467 - val_acc: 0.4530\n",
            "Epoch 9/50\n",
            "50000/50000 [==============================] - 2s 30us/step - loss: 1.3435 - acc: 0.5330 - val_loss: 1.5189 - val_acc: 0.4575\n",
            "Epoch 10/50\n",
            "50000/50000 [==============================] - 2s 31us/step - loss: 1.3138 - acc: 0.5434 - val_loss: 1.5116 - val_acc: 0.4614\n",
            "Epoch 11/50\n",
            "50000/50000 [==============================] - 2s 30us/step - loss: 1.2859 - acc: 0.5539 - val_loss: 1.4972 - val_acc: 0.4723\n",
            "Epoch 12/50\n",
            "50000/50000 [==============================] - 2s 30us/step - loss: 1.2588 - acc: 0.5645 - val_loss: 1.4934 - val_acc: 0.4685\n",
            "Epoch 13/50\n",
            "50000/50000 [==============================] - 1s 30us/step - loss: 1.2319 - acc: 0.5750 - val_loss: 1.4823 - val_acc: 0.4751\n",
            "Epoch 14/50\n",
            "50000/50000 [==============================] - 2s 31us/step - loss: 1.2081 - acc: 0.5837 - val_loss: 1.4713 - val_acc: 0.4781\n",
            "Epoch 15/50\n",
            "50000/50000 [==============================] - 2s 30us/step - loss: 1.1843 - acc: 0.5917 - val_loss: 1.4657 - val_acc: 0.4808\n",
            "Epoch 16/50\n",
            "50000/50000 [==============================] - 2s 31us/step - loss: 1.1616 - acc: 0.6004 - val_loss: 1.4734 - val_acc: 0.4811\n",
            "Epoch 17/50\n",
            "50000/50000 [==============================] - 2s 30us/step - loss: 1.1376 - acc: 0.6087 - val_loss: 1.4577 - val_acc: 0.4847\n",
            "Epoch 18/50\n",
            "50000/50000 [==============================] - 2s 30us/step - loss: 1.1147 - acc: 0.6192 - val_loss: 1.4634 - val_acc: 0.4850\n",
            "Epoch 19/50\n",
            "50000/50000 [==============================] - 2s 30us/step - loss: 1.0912 - acc: 0.6287 - val_loss: 1.4614 - val_acc: 0.4854\n",
            "Epoch 20/50\n",
            "50000/50000 [==============================] - 2s 30us/step - loss: 1.0713 - acc: 0.6353 - val_loss: 1.4658 - val_acc: 0.4847\n",
            "Epoch 21/50\n",
            "50000/50000 [==============================] - 2s 30us/step - loss: 1.0479 - acc: 0.6439 - val_loss: 1.4498 - val_acc: 0.4935\n",
            "Epoch 22/50\n",
            "50000/50000 [==============================] - 2s 30us/step - loss: 1.0262 - acc: 0.6519 - val_loss: 1.4554 - val_acc: 0.4923\n",
            "Epoch 23/50\n",
            "50000/50000 [==============================] - 2s 30us/step - loss: 1.0062 - acc: 0.6599 - val_loss: 1.4555 - val_acc: 0.4966\n",
            "Epoch 24/50\n",
            "50000/50000 [==============================] - 2s 30us/step - loss: 0.9847 - acc: 0.6689 - val_loss: 1.4520 - val_acc: 0.4968\n",
            "Epoch 25/50\n",
            "50000/50000 [==============================] - 2s 30us/step - loss: 0.9629 - acc: 0.6769 - val_loss: 1.4596 - val_acc: 0.5029\n",
            "Epoch 26/50\n",
            "50000/50000 [==============================] - 2s 30us/step - loss: 0.9432 - acc: 0.6840 - val_loss: 1.4633 - val_acc: 0.4938\n",
            "Epoch 27/50\n",
            "50000/50000 [==============================] - 2s 30us/step - loss: 0.9216 - acc: 0.6928 - val_loss: 1.4623 - val_acc: 0.4954\n",
            "Epoch 28/50\n",
            "50000/50000 [==============================] - 2s 30us/step - loss: 0.9012 - acc: 0.7013 - val_loss: 1.4829 - val_acc: 0.4940\n",
            "Epoch 29/50\n",
            "50000/50000 [==============================] - 2s 30us/step - loss: 0.8838 - acc: 0.7066 - val_loss: 1.4750 - val_acc: 0.4927\n",
            "Epoch 30/50\n",
            "50000/50000 [==============================] - 2s 30us/step - loss: 0.8634 - acc: 0.7150 - val_loss: 1.4919 - val_acc: 0.4957\n",
            "Epoch 00030: early stopping\n",
            "Experiment with patience_rate = 25.000000\n",
            "Model: \"model_1\"\n",
            "_________________________________________________________________\n",
            "Layer (type)                 Output Shape              Param #   \n",
            "=================================================================\n",
            "input_1 (InputLayer)         (None, 3072)              0         \n",
            "_________________________________________________________________\n",
            "hidden_layer1 (Dense)        (None, 512)               1573376   \n",
            "_________________________________________________________________\n",
            "batch_normalization_1 (Batch (None, 512)               2048      \n",
            "_________________________________________________________________\n",
            "hidden_layer2 (Dense)        (None, 256)               131328    \n",
            "_________________________________________________________________\n",
            "batch_normalization_2 (Batch (None, 256)               1024      \n",
            "_________________________________________________________________\n",
            "hidden_layer3 (Dense)        (None, 128)               32896     \n",
            "_________________________________________________________________\n",
            "batch_normalization_3 (Batch (None, 128)               512       \n",
            "_________________________________________________________________\n",
            "output (Dense)               (None, 10)                1290      \n",
            "=================================================================\n",
            "Total params: 1,742,474\n",
            "Trainable params: 1,740,682\n",
            "Non-trainable params: 1,792\n",
            "_________________________________________________________________\n",
            "Train on 50000 samples, validate on 10000 samples\n",
            "Epoch 1/50\n",
            "50000/50000 [==============================] - 2s 43us/step - loss: 2.2156 - acc: 0.2703 - val_loss: 2.1253 - val_acc: 0.3215\n",
            "Epoch 2/50\n",
            "50000/50000 [==============================] - 2s 31us/step - loss: 1.7395 - acc: 0.3923 - val_loss: 1.8217 - val_acc: 0.3695\n",
            "Epoch 3/50\n",
            "50000/50000 [==============================] - 2s 31us/step - loss: 1.6177 - acc: 0.4321 - val_loss: 1.7067 - val_acc: 0.4037\n",
            "Epoch 4/50\n",
            "50000/50000 [==============================] - 2s 31us/step - loss: 1.5468 - acc: 0.4574 - val_loss: 1.6290 - val_acc: 0.4305\n",
            "Epoch 5/50\n",
            "50000/50000 [==============================] - 2s 31us/step - loss: 1.4905 - acc: 0.4806 - val_loss: 1.5872 - val_acc: 0.4359\n",
            "Epoch 6/50\n",
            "50000/50000 [==============================] - 2s 31us/step - loss: 1.4448 - acc: 0.4955 - val_loss: 1.5733 - val_acc: 0.4484\n",
            "Epoch 7/50\n",
            "50000/50000 [==============================] - 2s 31us/step - loss: 1.4060 - acc: 0.5081 - val_loss: 1.5629 - val_acc: 0.4516\n",
            "Epoch 8/50\n",
            "50000/50000 [==============================] - 2s 31us/step - loss: 1.3719 - acc: 0.5207 - val_loss: 1.5265 - val_acc: 0.4641\n",
            "Epoch 9/50\n",
            "50000/50000 [==============================] - 2s 30us/step - loss: 1.3402 - acc: 0.5301 - val_loss: 1.5136 - val_acc: 0.4643\n",
            "Epoch 10/50\n",
            "50000/50000 [==============================] - 2s 31us/step - loss: 1.3088 - acc: 0.5416 - val_loss: 1.4897 - val_acc: 0.4749\n",
            "Epoch 11/50\n",
            "50000/50000 [==============================] - 2s 31us/step - loss: 1.2804 - acc: 0.5528 - val_loss: 1.4954 - val_acc: 0.4726\n",
            "Epoch 12/50\n",
            "50000/50000 [==============================] - 2s 31us/step - loss: 1.2530 - acc: 0.5632 - val_loss: 1.4816 - val_acc: 0.4761\n",
            "Epoch 13/50\n",
            "50000/50000 [==============================] - 2s 30us/step - loss: 1.2272 - acc: 0.5738 - val_loss: 1.4660 - val_acc: 0.4792\n",
            "Epoch 14/50\n",
            "50000/50000 [==============================] - 2s 31us/step - loss: 1.2011 - acc: 0.5837 - val_loss: 1.4619 - val_acc: 0.4875\n",
            "Epoch 15/50\n",
            "50000/50000 [==============================] - 2s 31us/step - loss: 1.1768 - acc: 0.5916 - val_loss: 1.4432 - val_acc: 0.4923\n",
            "Epoch 16/50\n",
            "50000/50000 [==============================] - 2s 30us/step - loss: 1.1524 - acc: 0.6030 - val_loss: 1.4468 - val_acc: 0.4933\n",
            "Epoch 17/50\n",
            "50000/50000 [==============================] - 2s 30us/step - loss: 1.1315 - acc: 0.6099 - val_loss: 1.4464 - val_acc: 0.4908\n",
            "Epoch 18/50\n",
            "50000/50000 [==============================] - 2s 31us/step - loss: 1.1082 - acc: 0.6178 - val_loss: 1.4503 - val_acc: 0.4948\n",
            "Epoch 19/50\n",
            "50000/50000 [==============================] - 2s 31us/step - loss: 1.0850 - acc: 0.6277 - val_loss: 1.4570 - val_acc: 0.4861\n",
            "Epoch 20/50\n",
            "50000/50000 [==============================] - 2s 31us/step - loss: 1.0637 - acc: 0.6359 - val_loss: 1.4351 - val_acc: 0.4954\n",
            "Epoch 21/50\n",
            "50000/50000 [==============================] - 2s 30us/step - loss: 1.0428 - acc: 0.6444 - val_loss: 1.4532 - val_acc: 0.4913\n",
            "Epoch 22/50\n",
            "50000/50000 [==============================] - 2s 31us/step - loss: 1.0212 - acc: 0.6531 - val_loss: 1.4377 - val_acc: 0.4993\n",
            "Epoch 23/50\n",
            "50000/50000 [==============================] - 2s 31us/step - loss: 0.9978 - acc: 0.6642 - val_loss: 1.4345 - val_acc: 0.5002\n",
            "Epoch 24/50\n",
            "50000/50000 [==============================] - 2s 30us/step - loss: 0.9786 - acc: 0.6711 - val_loss: 1.4404 - val_acc: 0.4985\n",
            "Epoch 25/50\n",
            "50000/50000 [==============================] - 2s 30us/step - loss: 0.9559 - acc: 0.6786 - val_loss: 1.4515 - val_acc: 0.4967\n",
            "Epoch 26/50\n",
            "50000/50000 [==============================] - 2s 31us/step - loss: 0.9378 - acc: 0.6848 - val_loss: 1.4527 - val_acc: 0.4992\n",
            "Epoch 27/50\n",
            "50000/50000 [==============================] - 2s 30us/step - loss: 0.9180 - acc: 0.6925 - val_loss: 1.4443 - val_acc: 0.5019\n",
            "Epoch 28/50\n",
            "50000/50000 [==============================] - 2s 30us/step - loss: 0.8966 - acc: 0.7022 - val_loss: 1.4614 - val_acc: 0.4981\n",
            "Epoch 29/50\n",
            "50000/50000 [==============================] - 2s 30us/step - loss: 0.8756 - acc: 0.7110 - val_loss: 1.4560 - val_acc: 0.4982\n",
            "Epoch 30/50\n",
            "50000/50000 [==============================] - 2s 30us/step - loss: 0.8548 - acc: 0.7165 - val_loss: 1.4617 - val_acc: 0.4968\n",
            "Epoch 31/50\n",
            "50000/50000 [==============================] - 2s 31us/step - loss: 0.8361 - acc: 0.7252 - val_loss: 1.4737 - val_acc: 0.5010\n",
            "Epoch 32/50\n",
            "50000/50000 [==============================] - 2s 31us/step - loss: 0.8152 - acc: 0.7362 - val_loss: 1.4722 - val_acc: 0.5004\n",
            "Epoch 00032: early stopping\n"
          ],
          "name": "stdout"
        }
      ]
    },
    {
      "cell_type": "code",
      "metadata": {
        "id": "f_Q8JRmLuqd7",
        "colab_type": "code",
        "colab": {
          "base_uri": "https://localhost:8080/",
          "height": 763
        },
        "outputId": "05e01114-e99e-41a2-acc8-2d15462a79a4"
      },
      "source": [
        "import matplotlib.pyplot as plt\n",
        "%matplotlib inline\n",
        "color_bar = [\"r\", \"g\", \"b\", \"y\", \"m\", \"k\"]\n",
        "\n",
        "plt.figure(figsize=(8,6))\n",
        "for i, cond in enumerate(results.keys()):\n",
        "    plt.plot(range(len(results[cond]['train-loss'])),results[cond]['train-loss'], '-', label=cond, color=color_bar[i])\n",
        "    plt.plot(range(len(results[cond]['valid-loss'])),results[cond]['valid-loss'], '--', label=cond, color=color_bar[i])\n",
        "plt.title(\"Loss\")\n",
        "plt.ylim([0, 5])\n",
        "plt.legend()\n",
        "plt.show()\n",
        "\n",
        "plt.figure(figsize=(8,6))\n",
        "for i, cond in enumerate(results.keys()):\n",
        "    plt.plot(range(len(results[cond]['train-acc'])),results[cond]['train-acc'], '-', label=cond, color=color_bar[i])\n",
        "    plt.plot(range(len(results[cond]['valid-acc'])),results[cond]['valid-acc'], '--', label=cond, color=color_bar[i])\n",
        "plt.title(\"Accuracy\")\n",
        "plt.legend()\n",
        "plt.show()"
      ],
      "execution_count": 12,
      "outputs": [
        {
          "output_type": "display_data",
          "data": {
            "image/png": "[encoded data removed]",
            "text/plain": [
              "<Figure size 576x432 with 1 Axes>"
            ]
          },
          "metadata": {
            "tags": []
          }
        },
        {
          "output_type": "display_data",
          "data": {
            "image/png": "[encoded data removed]",
            "text/plain": [
              "<Figure size 576x432 with 1 Axes>"
            ]
          },
          "metadata": {
            "tags": []
          }
        }
      ]
    }
  ]
}