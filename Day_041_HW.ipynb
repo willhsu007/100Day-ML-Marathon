{
 "cells": [
  {
   "cell_type": "markdown",
   "metadata": {},
   "source": [
    "## 作業\n",
    "\n",
    "\n",
    "\n",
    "閱讀以下兩篇文獻，了解決策樹原理，並試著回答後續的問題\n",
    "- [決策樹 (Decision Tree) - 中文](https://medium.com/@yehjames/%E8%B3%87%E6%96%99%E5%88%86%E6%9E%90-%E6%A9%9F%E5%99%A8%E5%AD%B8%E7%BF%92-%E7%AC%AC3-5%E8%AC%9B-%E6%B1%BA%E7%AD%96%E6%A8%B9-decision-tree-%E4%BB%A5%E5%8F%8A%E9%9A%A8%E6%A9%9F%E6%A3%AE%E6%9E%97-random-forest-%E4%BB%8B%E7%B4%B9-7079b0ddfbda)\n",
    "- [how decision tree works - 英文](http://dataaspirant.com/2017/01/30/how-decision-tree-algorithm-works/)\n",
    "\n",
    "1. 在分類問題中，若沒有任何限制，決策樹有辦法在訓練時將 training loss 完全降成 0 嗎？\n",
    "2. 決策樹只能用在分類問題嗎？還是可以用來解決回歸問題？\n"
   ]
  },
  {
   "cell_type": "code",
   "execution_count": null,
   "metadata": {},
   "outputs": [],
   "source": [
    "Yes, decision tree training loss could reduce to 0. \n",
    "In Decision Tree, splitting criterion methods are applied say information gain\n",
    "to split the current tree node to built a decision tree, but in many machine \n",
    "learning problems, normally there is a cost/loss function to be minimised to \n",
    "get the best parameters\n",
    "Pros\n",
    "1. Easy to understand and interpret.\n",
    "2. Require very little data preparation.\n",
    "3. The cost of using the tree for inference is logarithmic in the number of data \n",
    "points used to train the tree.\n",
    "Cons\n",
    "1. Overfitting is quite common with decision trees simply due to the nature of their training.\n",
    "2. For similar reasons as the case of overfitting, decision trees are also vulnerable \n",
    "to becoming biased to the classes that have a majority in the dataset."
   ]
  },
  {
   "cell_type": "code",
   "execution_count": null,
   "metadata": {},
   "outputs": [],
   "source": [
    "Yes, both classification / regression\n",
    "The concept is the same for decision trees in Machine Learning. We want to \n",
    "build a tree with a set of hierarchical decisions which eventually give us \n",
    "a final result, i.e our classification or regression prediction. \n",
    "The decisions will be selected such that the tree is as small as possible \n",
    "while aiming for high classification / regression accuracy."
   ]
  }
 ],
 "metadata": {
  "kernelspec": {
   "display_name": "Python 3",
   "language": "python",
   "name": "python3"
  },
  "language_info": {
   "codemirror_mode": {
    "name": "ipython",
    "version": 3
   },
   "file_extension": ".py",
   "mimetype": "text/x-python",
   "name": "python",
   "nbconvert_exporter": "python",
   "pygments_lexer": "ipython3",
   "version": "3.6.8"
  }
 },
 "nbformat": 4,
 "nbformat_minor": 2
}
