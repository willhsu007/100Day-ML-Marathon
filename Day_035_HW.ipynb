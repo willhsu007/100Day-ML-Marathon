{
 "cells": [
  {
   "cell_type": "markdown",
   "metadata": {},
   "source": [
    "## 練習時間\n",
    "相信大家對回歸問題及分類問題都有初步的了解。今天的作業希望大家搜尋有關 multi-label 的案例問題。下圖是電影 \"奇異博士\" 的分類。可以看到同時有 \"Action\", \"Adventure\", \"Fantasy\" 的類別存在，代表這是個多標籤的問題。 "
   ]
  },
  {
   "cell_type": "markdown",
   "metadata": {},
   "source": [
    "![image](https://cdn-images-1.medium.com/max/1000/1*r0gYXMSQf5VhdMyl2bRDyg.png)"
   ]
  },
  {
   "cell_type": "markdown",
   "metadata": {},
   "source": [
    "## 請搜尋目標為多標籤問題 (Multi-label) 的機器學習案例，了解其資料來源、目標以及評估指標為何\n",
    "## Hint: 服飾"
   ]
  },
  {
   "cell_type": "code",
   "execution_count": null,
   "metadata": {},
   "outputs": [],
   "source": [
    "資料來源\n",
    "，存在著許多需要對文本進行分類的情況。例如，新聞報導通常按主題進行組織;\n",
    "內容或產品通常需要按類別打上標籤; 根據用戶在線上談論產品或品牌時的文字內容將用戶分到不同\n",
    "的群組......\n",
    "但是，網際網路上的絕大多數文本分類文章和教程都是二文本分類，如垃圾郵件過濾\n",
    "（垃圾郵件與正常郵件），情感分析（正面與負面）。在大多數情況下，\n",
    "我們的現實世界問題要複雜得多。因此，這就是我們今天要做的事情：將消費者在金融方面的投訴\n",
    "分為12個事先定義好的類別。\n",
    "\n",
    "原文網址：https://kknews.cc/code/xebkjlq.html"
   ]
  },
  {
   "cell_type": "code",
   "execution_count": null,
   "metadata": {},
   "outputs": [],
   "source": [
    "評估指標：\n",
    "單標籤的評估措施通常與多標籤不同。在單標籤分類中，我們使用簡單的度量標準，\n",
    "如精度，召回率，準確度等\n",
    "在多標籤分類中，錯誤分類不再是一個嚴重的錯誤或正確的分類。\n",
    "包含實際類別的子集的預測應該被認為比不包含它們的預測更好，\n",
    "即，正確地預測三個標籤中的兩個，這比完全不預測標籤更好。\n",
    "為了測量多類分類器，我們必須以某種方式平均分類。有兩種不同的方法稱為微平均和宏平均。\n",
    "在微平均所有TP中，總結每個類的TN，FP和FN，然後取平均值。\n",
    "在微平均法中，您可以總結系統對於不同集合的個體真實肯定，誤報和誤報，並應用它們。\n",
    "而微平均F1分數將僅僅是上述兩個方程的調和平均值。\n",
    "宏平均是直截了當的。我們只是將系統的精度和召回的平均值放在不同的集合上。\n",
    "\n",
    "\n",
    "原文網址：https://kknews.cc/code/4l5rm9x.html"
   ]
  }
 ],
 "metadata": {
  "kernelspec": {
   "display_name": "Python 3",
   "language": "python",
   "name": "python3"
  },
  "language_info": {
   "codemirror_mode": {
    "name": "ipython",
    "version": 3
   },
   "file_extension": ".py",
   "mimetype": "text/x-python",
   "name": "python",
   "nbconvert_exporter": "python",
   "pygments_lexer": "ipython3",
   "version": "3.6.8"
  }
 },
 "nbformat": 4,
 "nbformat_minor": 2
}
