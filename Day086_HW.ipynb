{
  "nbformat": 4,
  "nbformat_minor": 0,
  "metadata": {
    "kernelspec": {
      "name": "python3",
      "display_name": "Python 3"
    },
    "language_info": {
      "codemirror_mode": {
        "name": "ipython",
        "version": 3
      },
      "file_extension": ".py",
      "mimetype": "text/x-python",
      "name": "python",
      "nbconvert_exporter": "python",
      "pygments_lexer": "ipython3",
      "version": "3.6.5"
    },
    "colab": {
      "name": "Day086_HW.ipynb",
      "provenance": [],
      "collapsed_sections": []
    },
    "accelerator": "GPU"
  },
  "cells": [
    {
      "cell_type": "markdown",
      "metadata": {
        "id": "BM9hZ4D_XJxz",
        "colab_type": "text"
      },
      "source": [
        "## Work\n",
        "1. 試比較 save_best_only 與否的差異\n",
        "2. 請僅存入將 save_weights_only 設定為 True, 並嘗試 reset ipynb 並將模型與權重重新建回並預測 x_test"
      ]
    },
    {
      "cell_type": "code",
      "metadata": {
        "id": "RBrhSe3RXJx1",
        "colab_type": "code",
        "colab": {
          "base_uri": "https://localhost:8080/",
          "height": 81
        },
        "outputId": "f675f21e-70cc-42fd-b291-0d277f52927f"
      },
      "source": [
        "import os\n",
        "import keras\n",
        "\n",
        "# Disable GPU\n",
        "os.environ[\"CUDA_VISIBLE_DEVICES\"] = \"0\""
      ],
      "execution_count": 1,
      "outputs": [
        {
          "output_type": "stream",
          "text": [
            "Using TensorFlow backend.\n"
          ],
          "name": "stderr"
        },
        {
          "output_type": "display_data",
          "data": {
            "text/html": [
              "<p style=\"color: red;\">\n",
              "The default version of TensorFlow in Colab will soon switch to TensorFlow 2.x.<br>\n",
              "We recommend you <a href=\"https://www.tensorflow.org/guide/migrate\" target=\"_blank\">upgrade</a> now \n",
              "or ensure your notebook will continue to use TensorFlow 1.x via the <code>%tensorflow_version 1.x</code> magic:\n",
              "<a href=\"https://colab.research.google.com/notebooks/tensorflow_version.ipynb\" target=\"_blank\">more info</a>.</p>\n"
            ],
            "text/plain": [
              "<IPython.core.display.HTML object>"
            ]
          },
          "metadata": {
            "tags": []
          }
        }
      ]
    },
    {
      "cell_type": "code",
      "metadata": {
        "id": "o9ehNoNRXJx5",
        "colab_type": "code",
        "colab": {
          "base_uri": "https://localhost:8080/",
          "height": 52
        },
        "outputId": "8917be11-a431-41e2-a321-37bedba63afb"
      },
      "source": [
        "train, test = keras.datasets.cifar10.load_data()"
      ],
      "execution_count": 2,
      "outputs": [
        {
          "output_type": "stream",
          "text": [
            "Downloading data from https://www.cs.toronto.edu/~kriz/cifar-10-python.tar.gz\n",
            "170500096/170498071 [==============================] - 18s 0us/step\n"
          ],
          "name": "stdout"
        }
      ]
    },
    {
      "cell_type": "code",
      "metadata": {
        "id": "jAj6Oq6bXJx7",
        "colab_type": "code",
        "colab": {}
      },
      "source": [
        "## 資料前處理\n",
        "def preproc_x(x, flatten=True):\n",
        "    x = x / 255.\n",
        "    if flatten:\n",
        "        x = x.reshape((len(x), -1))\n",
        "    return x\n",
        "\n",
        "def preproc_y(y, num_classes=10):\n",
        "    if y.shape[-1] == 1:\n",
        "        y = keras.utils.to_categorical(y, num_classes)\n",
        "    return y    "
      ],
      "execution_count": 0,
      "outputs": []
    },
    {
      "cell_type": "code",
      "metadata": {
        "id": "Is1AkyEUXJx9",
        "colab_type": "code",
        "colab": {}
      },
      "source": [
        "x_train, y_train = train\n",
        "x_test, y_test = test\n",
        "\n",
        "# Preproc the inputs\n",
        "x_train = preproc_x(x_train)\n",
        "x_test = preproc_x(x_test)\n",
        "\n",
        "# Preprc the outputs\n",
        "y_train = preproc_y(y_train)\n",
        "y_test = preproc_y(y_test)"
      ],
      "execution_count": 0,
      "outputs": []
    },
    {
      "cell_type": "code",
      "metadata": {
        "id": "Llo0QmzQXJx_",
        "colab_type": "code",
        "colab": {}
      },
      "source": [
        "from keras.layers import BatchNormalization\n",
        "\n",
        "\"\"\"\n",
        "建立神經網路，並加入 BN layer\n",
        "\"\"\"\n",
        "def build_mlp(input_shape, output_units=10, num_neurons=[512, 256, 128]):\n",
        "    input_layer = keras.layers.Input(input_shape)\n",
        "    \n",
        "    for i, n_units in enumerate(num_neurons):\n",
        "        if i == 0:\n",
        "            x = keras.layers.Dense(units=n_units, \n",
        "                                   activation=\"relu\", \n",
        "                                   name=\"hidden_layer\"+str(i+1))(input_layer)\n",
        "            x = BatchNormalization()(x)\n",
        "        else:\n",
        "            x = keras.layers.Dense(units=n_units, \n",
        "                                   activation=\"relu\", \n",
        "                                   name=\"hidden_layer\"+str(i+1))(x)\n",
        "            x = BatchNormalization()(x)\n",
        "    \n",
        "    out = keras.layers.Dense(units=output_units, activation=\"softmax\", name=\"output\")(x)\n",
        "    \n",
        "    model = keras.models.Model(inputs=[input_layer], outputs=[out])\n",
        "    return model"
      ],
      "execution_count": 0,
      "outputs": []
    },
    {
      "cell_type": "code",
      "metadata": {
        "id": "sAcyqXc-XJyA",
        "colab_type": "code",
        "colab": {}
      },
      "source": [
        "## 超參數設定\n",
        "LEARNING_RATE = 1e-3\n",
        "EPOCHS = 50\n",
        "BATCH_SIZE = 1024\n",
        "MOMENTUM = 0.95"
      ],
      "execution_count": 0,
      "outputs": []
    },
    {
      "cell_type": "code",
      "metadata": {
        "id": "ekJ5TzKvXJyC",
        "colab_type": "code",
        "colab": {
          "base_uri": "https://localhost:8080/",
          "height": 1000
        },
        "outputId": "b47abd52-21f7-4d50-e7dc-703fb4dd1cb9"
      },
      "source": [
        "# 載入 Callbacks\n",
        "\"\"\"Code Here\n",
        "設定 callbacks: model checkpoint\n",
        "\"\"\"\n",
        "from keras.callbacks import ModelCheckpoint\n",
        "\n",
        "model_ckpt = ModelCheckpoint(filepath=\"./tmp.h5\", \n",
        "                             monitor=\"val_loss\", \n",
        "                             save_best_only=True)\n",
        "\n",
        "\n",
        "\"\"\"Code Here\n",
        "撰寫你的訓練流程並將結果用 dictionary 紀錄\n",
        "\"\"\"\n",
        "\n",
        "\n",
        "\"\"\"\n",
        "# 載入 Callbacks, 並將監控目標設為 validation loss, 且只存最佳參數時的模型\n",
        "\"\"\"\n",
        "results = {}\n",
        "model = build_mlp(input_shape=x_train.shape[1:])\n",
        "model.summary()\n",
        "optimizer = keras.optimizers.SGD(lr=LEARNING_RATE, nesterov=True, momentum=MOMENTUM)\n",
        "model.compile(loss=\"categorical_crossentropy\", metrics=[\"accuracy\"], optimizer=optimizer)\n",
        "\n",
        "model.fit(x_train, y_train, \n",
        "          epochs=EPOCHS, \n",
        "          batch_size=BATCH_SIZE, \n",
        "          validation_data=(x_test, y_test), \n",
        "          shuffle=True,\n",
        "          callbacks=[model_ckpt]\n",
        "         )\n",
        "\n",
        "# Collect results\n",
        "train_loss = model.history.history[\"loss\"]\n",
        "valid_loss = model.history.history[\"val_loss\"]\n",
        "train_acc = model.history.history[\"acc\"]\n",
        "valid_acc = model.history.history[\"val_acc\"]\n",
        "\n",
        "# Load back\n",
        "model = keras.models.load_model(\"./tmp.h5\")\n",
        "loss_loadback, acc_loadback = model.evaluate(x_test, y_test)"
      ],
      "execution_count": 7,
      "outputs": [
        {
          "output_type": "stream",
          "text": [
            "WARNING:tensorflow:From /usr/local/lib/python3.6/dist-packages/keras/backend/tensorflow_backend.py:66: The name tf.get_default_graph is deprecated. Please use tf.compat.v1.get_default_graph instead.\n",
            "\n",
            "WARNING:tensorflow:From /usr/local/lib/python3.6/dist-packages/keras/backend/tensorflow_backend.py:541: The name tf.placeholder is deprecated. Please use tf.compat.v1.placeholder instead.\n",
            "\n",
            "WARNING:tensorflow:From /usr/local/lib/python3.6/dist-packages/keras/backend/tensorflow_backend.py:4432: The name tf.random_uniform is deprecated. Please use tf.random.uniform instead.\n",
            "\n",
            "WARNING:tensorflow:From /usr/local/lib/python3.6/dist-packages/keras/backend/tensorflow_backend.py:148: The name tf.placeholder_with_default is deprecated. Please use tf.compat.v1.placeholder_with_default instead.\n",
            "\n",
            "Model: \"model_1\"\n",
            "_________________________________________________________________\n",
            "Layer (type)                 Output Shape              Param #   \n",
            "=================================================================\n",
            "input_1 (InputLayer)         (None, 3072)              0         \n",
            "_________________________________________________________________\n",
            "hidden_layer1 (Dense)        (None, 512)               1573376   \n",
            "_________________________________________________________________\n",
            "batch_normalization_1 (Batch (None, 512)               2048      \n",
            "_________________________________________________________________\n",
            "hidden_layer2 (Dense)        (None, 256)               131328    \n",
            "_________________________________________________________________\n",
            "batch_normalization_2 (Batch (None, 256)               1024      \n",
            "_________________________________________________________________\n",
            "hidden_layer3 (Dense)        (None, 128)               32896     \n",
            "_________________________________________________________________\n",
            "batch_normalization_3 (Batch (None, 128)               512       \n",
            "_________________________________________________________________\n",
            "output (Dense)               (None, 10)                1290      \n",
            "=================================================================\n",
            "Total params: 1,742,474\n",
            "Trainable params: 1,740,682\n",
            "Non-trainable params: 1,792\n",
            "_________________________________________________________________\n",
            "WARNING:tensorflow:From /usr/local/lib/python3.6/dist-packages/keras/optimizers.py:793: The name tf.train.Optimizer is deprecated. Please use tf.compat.v1.train.Optimizer instead.\n",
            "\n",
            "WARNING:tensorflow:From /usr/local/lib/python3.6/dist-packages/keras/backend/tensorflow_backend.py:3576: The name tf.log is deprecated. Please use tf.math.log instead.\n",
            "\n",
            "WARNING:tensorflow:From /usr/local/lib/python3.6/dist-packages/tensorflow_core/python/ops/math_grad.py:1424: where (from tensorflow.python.ops.array_ops) is deprecated and will be removed in a future version.\n",
            "Instructions for updating:\n",
            "Use tf.where in 2.0, which has the same broadcast rule as np.where\n",
            "WARNING:tensorflow:From /usr/local/lib/python3.6/dist-packages/keras/backend/tensorflow_backend.py:1033: The name tf.assign_add is deprecated. Please use tf.compat.v1.assign_add instead.\n",
            "\n",
            "WARNING:tensorflow:From /usr/local/lib/python3.6/dist-packages/keras/backend/tensorflow_backend.py:1020: The name tf.assign is deprecated. Please use tf.compat.v1.assign instead.\n",
            "\n",
            "WARNING:tensorflow:From /usr/local/lib/python3.6/dist-packages/keras/backend/tensorflow_backend.py:3005: The name tf.Session is deprecated. Please use tf.compat.v1.Session instead.\n",
            "\n",
            "Train on 50000 samples, validate on 10000 samples\n",
            "Epoch 1/50\n",
            "WARNING:tensorflow:From /usr/local/lib/python3.6/dist-packages/keras/backend/tensorflow_backend.py:190: The name tf.get_default_session is deprecated. Please use tf.compat.v1.get_default_session instead.\n",
            "\n",
            "WARNING:tensorflow:From /usr/local/lib/python3.6/dist-packages/keras/backend/tensorflow_backend.py:197: The name tf.ConfigProto is deprecated. Please use tf.compat.v1.ConfigProto instead.\n",
            "\n",
            "WARNING:tensorflow:From /usr/local/lib/python3.6/dist-packages/keras/backend/tensorflow_backend.py:207: The name tf.global_variables is deprecated. Please use tf.compat.v1.global_variables instead.\n",
            "\n",
            "WARNING:tensorflow:From /usr/local/lib/python3.6/dist-packages/keras/backend/tensorflow_backend.py:216: The name tf.is_variable_initialized is deprecated. Please use tf.compat.v1.is_variable_initialized instead.\n",
            "\n",
            "WARNING:tensorflow:From /usr/local/lib/python3.6/dist-packages/keras/backend/tensorflow_backend.py:223: The name tf.variables_initializer is deprecated. Please use tf.compat.v1.variables_initializer instead.\n",
            "\n",
            "50000/50000 [==============================] - 7s 133us/step - loss: 2.2327 - acc: 0.2594 - val_loss: 2.1388 - val_acc: 0.3041\n",
            "Epoch 2/50\n",
            "50000/50000 [==============================] - 2s 35us/step - loss: 1.7489 - acc: 0.3880 - val_loss: 1.8270 - val_acc: 0.3659\n",
            "Epoch 3/50\n",
            "50000/50000 [==============================] - 2s 35us/step - loss: 1.6240 - acc: 0.4297 - val_loss: 1.7089 - val_acc: 0.4034\n",
            "Epoch 4/50\n",
            "50000/50000 [==============================] - 2s 35us/step - loss: 1.5515 - acc: 0.4543 - val_loss: 1.6321 - val_acc: 0.4270\n",
            "Epoch 5/50\n",
            "50000/50000 [==============================] - 2s 35us/step - loss: 1.4941 - acc: 0.4775 - val_loss: 1.6074 - val_acc: 0.4314\n",
            "Epoch 6/50\n",
            "50000/50000 [==============================] - 2s 35us/step - loss: 1.4486 - acc: 0.4923 - val_loss: 1.5710 - val_acc: 0.4513\n",
            "Epoch 7/50\n",
            "50000/50000 [==============================] - 2s 35us/step - loss: 1.4078 - acc: 0.5085 - val_loss: 1.5432 - val_acc: 0.4598\n",
            "Epoch 8/50\n",
            "50000/50000 [==============================] - 2s 35us/step - loss: 1.3716 - acc: 0.5225 - val_loss: 1.5258 - val_acc: 0.4576\n",
            "Epoch 9/50\n",
            "50000/50000 [==============================] - 2s 35us/step - loss: 1.3375 - acc: 0.5341 - val_loss: 1.5143 - val_acc: 0.4638\n",
            "Epoch 10/50\n",
            "50000/50000 [==============================] - 2s 35us/step - loss: 1.3083 - acc: 0.5455 - val_loss: 1.4992 - val_acc: 0.4740\n",
            "Epoch 11/50\n",
            "50000/50000 [==============================] - 2s 35us/step - loss: 1.2778 - acc: 0.5565 - val_loss: 1.4960 - val_acc: 0.4694\n",
            "Epoch 12/50\n",
            "50000/50000 [==============================] - 2s 35us/step - loss: 1.2510 - acc: 0.5655 - val_loss: 1.4867 - val_acc: 0.4804\n",
            "Epoch 13/50\n",
            "50000/50000 [==============================] - 2s 35us/step - loss: 1.2247 - acc: 0.5774 - val_loss: 1.4760 - val_acc: 0.4769\n",
            "Epoch 14/50\n",
            "50000/50000 [==============================] - 2s 35us/step - loss: 1.2008 - acc: 0.5851 - val_loss: 1.4816 - val_acc: 0.4815\n",
            "Epoch 15/50\n",
            "50000/50000 [==============================] - 2s 35us/step - loss: 1.1744 - acc: 0.5953 - val_loss: 1.4659 - val_acc: 0.4874\n",
            "Epoch 16/50\n",
            "50000/50000 [==============================] - 2s 35us/step - loss: 1.1503 - acc: 0.6022 - val_loss: 1.4692 - val_acc: 0.4860\n",
            "Epoch 17/50\n",
            "50000/50000 [==============================] - 2s 35us/step - loss: 1.1267 - acc: 0.6123 - val_loss: 1.4636 - val_acc: 0.4880\n",
            "Epoch 18/50\n",
            "50000/50000 [==============================] - 2s 35us/step - loss: 1.1040 - acc: 0.6218 - val_loss: 1.4657 - val_acc: 0.4910\n",
            "Epoch 19/50\n",
            "50000/50000 [==============================] - 2s 35us/step - loss: 1.0837 - acc: 0.6277 - val_loss: 1.4582 - val_acc: 0.4884\n",
            "Epoch 20/50\n",
            "50000/50000 [==============================] - 2s 35us/step - loss: 1.0589 - acc: 0.6388 - val_loss: 1.4635 - val_acc: 0.4880\n",
            "Epoch 21/50\n",
            "50000/50000 [==============================] - 2s 35us/step - loss: 1.0362 - acc: 0.6470 - val_loss: 1.4630 - val_acc: 0.4945\n",
            "Epoch 22/50\n",
            "50000/50000 [==============================] - 2s 35us/step - loss: 1.0163 - acc: 0.6537 - val_loss: 1.4563 - val_acc: 0.4930\n",
            "Epoch 23/50\n",
            "50000/50000 [==============================] - 2s 34us/step - loss: 0.9941 - acc: 0.6629 - val_loss: 1.4721 - val_acc: 0.4927\n",
            "Epoch 24/50\n",
            "50000/50000 [==============================] - 2s 36us/step - loss: 0.9734 - acc: 0.6712 - val_loss: 1.4669 - val_acc: 0.4895\n",
            "Epoch 25/50\n",
            "50000/50000 [==============================] - 2s 35us/step - loss: 0.9532 - acc: 0.6773 - val_loss: 1.4688 - val_acc: 0.4952\n",
            "Epoch 26/50\n",
            "50000/50000 [==============================] - 2s 35us/step - loss: 0.9307 - acc: 0.6878 - val_loss: 1.4881 - val_acc: 0.4922\n",
            "Epoch 27/50\n",
            "50000/50000 [==============================] - 2s 35us/step - loss: 0.9109 - acc: 0.6941 - val_loss: 1.4779 - val_acc: 0.4942\n",
            "Epoch 28/50\n",
            "50000/50000 [==============================] - 2s 35us/step - loss: 0.8919 - acc: 0.7026 - val_loss: 1.4835 - val_acc: 0.4932\n",
            "Epoch 29/50\n",
            "50000/50000 [==============================] - 2s 35us/step - loss: 0.8696 - acc: 0.7140 - val_loss: 1.4807 - val_acc: 0.4951\n",
            "Epoch 30/50\n",
            "50000/50000 [==============================] - 2s 35us/step - loss: 0.8493 - acc: 0.7193 - val_loss: 1.4900 - val_acc: 0.4921\n",
            "Epoch 31/50\n",
            "50000/50000 [==============================] - 2s 35us/step - loss: 0.8294 - acc: 0.7277 - val_loss: 1.4939 - val_acc: 0.4893\n",
            "Epoch 32/50\n",
            "50000/50000 [==============================] - 2s 35us/step - loss: 0.8084 - acc: 0.7350 - val_loss: 1.5081 - val_acc: 0.4941\n",
            "Epoch 33/50\n",
            "50000/50000 [==============================] - 2s 35us/step - loss: 0.7883 - acc: 0.7428 - val_loss: 1.5201 - val_acc: 0.4879\n",
            "Epoch 34/50\n",
            "50000/50000 [==============================] - 2s 35us/step - loss: 0.7694 - acc: 0.7509 - val_loss: 1.5353 - val_acc: 0.4895\n",
            "Epoch 35/50\n",
            "50000/50000 [==============================] - 2s 35us/step - loss: 0.7518 - acc: 0.7580 - val_loss: 1.5235 - val_acc: 0.4918\n",
            "Epoch 36/50\n",
            "50000/50000 [==============================] - 2s 35us/step - loss: 0.7311 - acc: 0.7666 - val_loss: 1.5338 - val_acc: 0.4939\n",
            "Epoch 37/50\n",
            "50000/50000 [==============================] - 2s 35us/step - loss: 0.7112 - acc: 0.7751 - val_loss: 1.5519 - val_acc: 0.4924\n",
            "Epoch 38/50\n",
            "50000/50000 [==============================] - 2s 35us/step - loss: 0.6932 - acc: 0.7820 - val_loss: 1.5498 - val_acc: 0.4971\n",
            "Epoch 39/50\n",
            "50000/50000 [==============================] - 2s 35us/step - loss: 0.6734 - acc: 0.7888 - val_loss: 1.5626 - val_acc: 0.4903\n",
            "Epoch 40/50\n",
            "50000/50000 [==============================] - 2s 35us/step - loss: 0.6565 - acc: 0.7975 - val_loss: 1.5865 - val_acc: 0.4923\n",
            "Epoch 41/50\n",
            "50000/50000 [==============================] - 2s 35us/step - loss: 0.6372 - acc: 0.8043 - val_loss: 1.5822 - val_acc: 0.4902\n",
            "Epoch 42/50\n",
            "50000/50000 [==============================] - 2s 35us/step - loss: 0.6197 - acc: 0.8108 - val_loss: 1.6039 - val_acc: 0.4908\n",
            "Epoch 43/50\n",
            "50000/50000 [==============================] - 2s 35us/step - loss: 0.6003 - acc: 0.8185 - val_loss: 1.6040 - val_acc: 0.4933\n",
            "Epoch 44/50\n",
            "50000/50000 [==============================] - 2s 35us/step - loss: 0.5841 - acc: 0.8253 - val_loss: 1.6217 - val_acc: 0.4849\n",
            "Epoch 45/50\n",
            "50000/50000 [==============================] - 2s 36us/step - loss: 0.5659 - acc: 0.8337 - val_loss: 1.6355 - val_acc: 0.4880\n",
            "Epoch 46/50\n",
            "50000/50000 [==============================] - 2s 36us/step - loss: 0.5496 - acc: 0.8390 - val_loss: 1.6700 - val_acc: 0.4873\n",
            "Epoch 47/50\n",
            "50000/50000 [==============================] - 2s 35us/step - loss: 0.5333 - acc: 0.8467 - val_loss: 1.6480 - val_acc: 0.4882\n",
            "Epoch 48/50\n",
            "50000/50000 [==============================] - 2s 35us/step - loss: 0.5160 - acc: 0.8526 - val_loss: 1.6862 - val_acc: 0.4801\n",
            "Epoch 49/50\n",
            "50000/50000 [==============================] - 2s 35us/step - loss: 0.4986 - acc: 0.8607 - val_loss: 1.6998 - val_acc: 0.4829\n",
            "Epoch 50/50\n",
            "50000/50000 [==============================] - 2s 35us/step - loss: 0.4838 - acc: 0.8652 - val_loss: 1.6914 - val_acc: 0.4862\n",
            "10000/10000 [==============================] - 1s 105us/step\n"
          ],
          "name": "stdout"
        }
      ]
    },
    {
      "cell_type": "code",
      "metadata": {
        "scrolled": true,
        "id": "QqhHABnyXJyE",
        "colab_type": "code",
        "colab": {
          "base_uri": "https://localhost:8080/",
          "height": 545
        },
        "outputId": "93385bea-b778-4116-d708-2b207e5ebfe4"
      },
      "source": [
        "import matplotlib.pyplot as plt\n",
        "%matplotlib inline\n",
        "\n",
        "plt.plot(range(len(train_loss)), train_loss, label=\"train loss\")\n",
        "plt.plot(range(len(valid_loss)), valid_loss, label=\"valid loss\")\n",
        "plt.hlines(y=loss_loadback, xmin=0, xmax=len(train_loss), colors='r', linestyles='--')\n",
        "plt.legend()\n",
        "plt.title(\"Loss\")\n",
        "plt.show()\n",
        "\n",
        "plt.plot(range(len(train_acc)), train_acc, label=\"train accuracy\")\n",
        "plt.plot(range(len(valid_acc)), valid_acc, label=\"valid accuracy\")\n",
        "plt.hlines(y=acc_loadback, xmin=0, xmax=len(train_loss), colors='r', linestyles='--')\n",
        "plt.legend()\n",
        "plt.title(\"Accuracy\")\n",
        "plt.show()"
      ],
      "execution_count": 8,
      "outputs": [
        {
          "output_type": "display_data",
          "data": {
            "image/png": "[encoded data removed]",
            "text/plain": [
              "<Figure size 432x288 with 1 Axes>"
            ]
          },
          "metadata": {
            "tags": []
          }
        },
        {
          "output_type": "display_data",
          "data": {
            "image/png": "[encoded data removed]",
            "text/plain": [
              "<Figure size 432x288 with 1 Axes>"
            ]
          },
          "metadata": {
            "tags": []
          }
        }
      ]
    },
    {
      "cell_type": "code",
      "metadata": {
        "id": "2d7i-cRCZOfT",
        "colab_type": "code",
        "colab": {
          "base_uri": "https://localhost:8080/",
          "height": 1000
        },
        "outputId": "fa050c13-3995-4fbb-d8f0-812bef51cf66"
      },
      "source": [
        "# 載入 Callbacks\n",
        "\"\"\"Code Here\n",
        "設定 callbacks: model checkpoint\n",
        "\"\"\"\n",
        "from keras.callbacks import ModelCheckpoint\n",
        "\n",
        "model_ckpt = ModelCheckpoint(filepath=\"./tmp.h5\", \n",
        "                             monitor=\"val_loss\", \n",
        "                             save_best_only=False)\n",
        "\n",
        "\n",
        "\"\"\"Code Here\n",
        "撰寫你的訓練流程並將結果用 dictionary 紀錄\n",
        "\"\"\"\n",
        "\n",
        "\n",
        "\"\"\"\n",
        "# 載入 Callbacks, 並將監控目標設為 validation loss, 且只存最佳參數時的模型\n",
        "\"\"\"\n",
        "results = {}\n",
        "model = build_mlp(input_shape=x_train.shape[1:])\n",
        "model.summary()\n",
        "optimizer = keras.optimizers.SGD(lr=LEARNING_RATE, nesterov=True, momentum=MOMENTUM)\n",
        "model.compile(loss=\"categorical_crossentropy\", metrics=[\"accuracy\"], optimizer=optimizer)\n",
        "\n",
        "model.fit(x_train, y_train, \n",
        "          epochs=EPOCHS, \n",
        "          batch_size=BATCH_SIZE, \n",
        "          validation_data=(x_test, y_test), \n",
        "          shuffle=True,\n",
        "          callbacks=[model_ckpt]\n",
        "         )\n",
        "\n",
        "# Collect results\n",
        "train_loss = model.history.history[\"loss\"]\n",
        "valid_loss = model.history.history[\"val_loss\"]\n",
        "train_acc = model.history.history[\"acc\"]\n",
        "valid_acc = model.history.history[\"val_acc\"]\n",
        "\n",
        "# Load back\n",
        "model = keras.models.load_model(\"./tmp.h5\")\n",
        "loss_loadback, acc_loadback = model.evaluate(x_test, y_test)"
      ],
      "execution_count": 9,
      "outputs": [
        {
          "output_type": "stream",
          "text": [
            "Model: \"model_2\"\n",
            "_________________________________________________________________\n",
            "Layer (type)                 Output Shape              Param #   \n",
            "=================================================================\n",
            "input_2 (InputLayer)         (None, 3072)              0         \n",
            "_________________________________________________________________\n",
            "hidden_layer1 (Dense)        (None, 512)               1573376   \n",
            "_________________________________________________________________\n",
            "batch_normalization_4 (Batch (None, 512)               2048      \n",
            "_________________________________________________________________\n",
            "hidden_layer2 (Dense)        (None, 256)               131328    \n",
            "_________________________________________________________________\n",
            "batch_normalization_5 (Batch (None, 256)               1024      \n",
            "_________________________________________________________________\n",
            "hidden_layer3 (Dense)        (None, 128)               32896     \n",
            "_________________________________________________________________\n",
            "batch_normalization_6 (Batch (None, 128)               512       \n",
            "_________________________________________________________________\n",
            "output (Dense)               (None, 10)                1290      \n",
            "=================================================================\n",
            "Total params: 1,742,474\n",
            "Trainable params: 1,740,682\n",
            "Non-trainable params: 1,792\n",
            "_________________________________________________________________\n",
            "Train on 50000 samples, validate on 10000 samples\n",
            "Epoch 1/50\n",
            "50000/50000 [==============================] - 3s 55us/step - loss: 2.1706 - acc: 0.2762 - val_loss: 2.0330 - val_acc: 0.3162\n",
            "Epoch 2/50\n",
            "50000/50000 [==============================] - 2s 36us/step - loss: 1.7398 - acc: 0.3915 - val_loss: 1.7691 - val_acc: 0.3847\n",
            "Epoch 3/50\n",
            "50000/50000 [==============================] - 2s 35us/step - loss: 1.6203 - acc: 0.4325 - val_loss: 1.6670 - val_acc: 0.4178\n",
            "Epoch 4/50\n",
            "50000/50000 [==============================] - 2s 36us/step - loss: 1.5500 - acc: 0.4573 - val_loss: 1.6219 - val_acc: 0.4255\n",
            "Epoch 5/50\n",
            "50000/50000 [==============================] - 2s 36us/step - loss: 1.4945 - acc: 0.4759 - val_loss: 1.5834 - val_acc: 0.4453\n",
            "Epoch 6/50\n",
            "50000/50000 [==============================] - 2s 36us/step - loss: 1.4517 - acc: 0.4919 - val_loss: 1.5792 - val_acc: 0.4435\n",
            "Epoch 7/50\n",
            "50000/50000 [==============================] - 2s 35us/step - loss: 1.4140 - acc: 0.5058 - val_loss: 1.5349 - val_acc: 0.4544\n",
            "Epoch 8/50\n",
            "50000/50000 [==============================] - 2s 36us/step - loss: 1.3793 - acc: 0.5176 - val_loss: 1.5383 - val_acc: 0.4574\n",
            "Epoch 9/50\n",
            "50000/50000 [==============================] - 2s 35us/step - loss: 1.3459 - acc: 0.5314 - val_loss: 1.5103 - val_acc: 0.4655\n",
            "Epoch 10/50\n",
            "50000/50000 [==============================] - 2s 36us/step - loss: 1.3161 - acc: 0.5405 - val_loss: 1.4958 - val_acc: 0.4732\n",
            "Epoch 11/50\n",
            "50000/50000 [==============================] - 2s 36us/step - loss: 1.2893 - acc: 0.5514 - val_loss: 1.4952 - val_acc: 0.4726\n",
            "Epoch 12/50\n",
            "50000/50000 [==============================] - 2s 36us/step - loss: 1.2630 - acc: 0.5632 - val_loss: 1.4836 - val_acc: 0.4801\n",
            "Epoch 13/50\n",
            "50000/50000 [==============================] - 2s 36us/step - loss: 1.2364 - acc: 0.5721 - val_loss: 1.4775 - val_acc: 0.4745\n",
            "Epoch 14/50\n",
            "50000/50000 [==============================] - 2s 36us/step - loss: 1.2134 - acc: 0.5819 - val_loss: 1.4646 - val_acc: 0.4853\n",
            "Epoch 15/50\n",
            "50000/50000 [==============================] - 2s 36us/step - loss: 1.1887 - acc: 0.5911 - val_loss: 1.4573 - val_acc: 0.4870\n",
            "Epoch 16/50\n",
            "50000/50000 [==============================] - 2s 36us/step - loss: 1.1642 - acc: 0.6000 - val_loss: 1.4701 - val_acc: 0.4867\n",
            "Epoch 17/50\n",
            "50000/50000 [==============================] - 2s 36us/step - loss: 1.1431 - acc: 0.6080 - val_loss: 1.4585 - val_acc: 0.4861\n",
            "Epoch 18/50\n",
            "50000/50000 [==============================] - 2s 36us/step - loss: 1.1203 - acc: 0.6164 - val_loss: 1.4522 - val_acc: 0.4880\n",
            "Epoch 19/50\n",
            "50000/50000 [==============================] - 2s 36us/step - loss: 1.0971 - acc: 0.6253 - val_loss: 1.4562 - val_acc: 0.4900\n",
            "Epoch 20/50\n",
            "50000/50000 [==============================] - 2s 35us/step - loss: 1.0773 - acc: 0.6322 - val_loss: 1.4596 - val_acc: 0.4917\n",
            "Epoch 21/50\n",
            "50000/50000 [==============================] - 2s 36us/step - loss: 1.0559 - acc: 0.6416 - val_loss: 1.4515 - val_acc: 0.4865\n",
            "Epoch 22/50\n",
            "50000/50000 [==============================] - 2s 35us/step - loss: 1.0379 - acc: 0.6484 - val_loss: 1.4537 - val_acc: 0.4924\n",
            "Epoch 23/50\n",
            "50000/50000 [==============================] - 2s 36us/step - loss: 1.0157 - acc: 0.6551 - val_loss: 1.4492 - val_acc: 0.4959\n",
            "Epoch 24/50\n",
            "50000/50000 [==============================] - 2s 35us/step - loss: 0.9957 - acc: 0.6638 - val_loss: 1.4488 - val_acc: 0.4916\n",
            "Epoch 25/50\n",
            "50000/50000 [==============================] - 2s 36us/step - loss: 0.9729 - acc: 0.6732 - val_loss: 1.4554 - val_acc: 0.4939\n",
            "Epoch 26/50\n",
            "50000/50000 [==============================] - 2s 36us/step - loss: 0.9538 - acc: 0.6813 - val_loss: 1.4631 - val_acc: 0.4959\n",
            "Epoch 27/50\n",
            "50000/50000 [==============================] - 2s 36us/step - loss: 0.9339 - acc: 0.6883 - val_loss: 1.4532 - val_acc: 0.4960\n",
            "Epoch 28/50\n",
            "50000/50000 [==============================] - 2s 35us/step - loss: 0.9153 - acc: 0.6955 - val_loss: 1.4606 - val_acc: 0.5006\n",
            "Epoch 29/50\n",
            "50000/50000 [==============================] - 2s 36us/step - loss: 0.8936 - acc: 0.7036 - val_loss: 1.4661 - val_acc: 0.4990\n",
            "Epoch 30/50\n",
            "50000/50000 [==============================] - 2s 35us/step - loss: 0.8750 - acc: 0.7108 - val_loss: 1.4745 - val_acc: 0.4953\n",
            "Epoch 31/50\n",
            "50000/50000 [==============================] - 2s 35us/step - loss: 0.8569 - acc: 0.7168 - val_loss: 1.4754 - val_acc: 0.5003\n",
            "Epoch 32/50\n",
            "50000/50000 [==============================] - 2s 36us/step - loss: 0.8370 - acc: 0.7241 - val_loss: 1.4819 - val_acc: 0.5017\n",
            "Epoch 33/50\n",
            "50000/50000 [==============================] - 2s 37us/step - loss: 0.8164 - acc: 0.7348 - val_loss: 1.4926 - val_acc: 0.4959\n",
            "Epoch 34/50\n",
            "50000/50000 [==============================] - 2s 36us/step - loss: 0.7989 - acc: 0.7406 - val_loss: 1.4955 - val_acc: 0.5008\n",
            "Epoch 35/50\n",
            "50000/50000 [==============================] - 2s 36us/step - loss: 0.7795 - acc: 0.7485 - val_loss: 1.4885 - val_acc: 0.4991\n",
            "Epoch 36/50\n",
            "50000/50000 [==============================] - 2s 35us/step - loss: 0.7620 - acc: 0.7553 - val_loss: 1.5037 - val_acc: 0.5014\n",
            "Epoch 37/50\n",
            "50000/50000 [==============================] - 2s 35us/step - loss: 0.7415 - acc: 0.7643 - val_loss: 1.5111 - val_acc: 0.5044\n",
            "Epoch 38/50\n",
            "50000/50000 [==============================] - 2s 36us/step - loss: 0.7228 - acc: 0.7723 - val_loss: 1.5098 - val_acc: 0.5033\n",
            "Epoch 39/50\n",
            "50000/50000 [==============================] - 2s 35us/step - loss: 0.7068 - acc: 0.7774 - val_loss: 1.5320 - val_acc: 0.4971\n",
            "Epoch 40/50\n",
            "50000/50000 [==============================] - 2s 36us/step - loss: 0.6870 - acc: 0.7849 - val_loss: 1.5384 - val_acc: 0.5012\n",
            "Epoch 41/50\n",
            "50000/50000 [==============================] - 2s 36us/step - loss: 0.6693 - acc: 0.7927 - val_loss: 1.5567 - val_acc: 0.4962\n",
            "Epoch 42/50\n",
            "50000/50000 [==============================] - 2s 36us/step - loss: 0.6534 - acc: 0.7983 - val_loss: 1.5725 - val_acc: 0.4927\n",
            "Epoch 43/50\n",
            "50000/50000 [==============================] - 2s 36us/step - loss: 0.6352 - acc: 0.8060 - val_loss: 1.5646 - val_acc: 0.5008\n",
            "Epoch 44/50\n",
            "50000/50000 [==============================] - 2s 36us/step - loss: 0.6146 - acc: 0.8148 - val_loss: 1.5685 - val_acc: 0.4984\n",
            "Epoch 45/50\n",
            "50000/50000 [==============================] - 2s 36us/step - loss: 0.5985 - acc: 0.8208 - val_loss: 1.5782 - val_acc: 0.4923\n",
            "Epoch 46/50\n",
            "50000/50000 [==============================] - 2s 36us/step - loss: 0.5815 - acc: 0.8279 - val_loss: 1.6104 - val_acc: 0.4965\n",
            "Epoch 47/50\n",
            "50000/50000 [==============================] - 2s 35us/step - loss: 0.5637 - acc: 0.8359 - val_loss: 1.6195 - val_acc: 0.4966\n",
            "Epoch 48/50\n",
            "50000/50000 [==============================] - 2s 36us/step - loss: 0.5481 - acc: 0.8412 - val_loss: 1.6180 - val_acc: 0.5029\n",
            "Epoch 49/50\n",
            "50000/50000 [==============================] - 2s 36us/step - loss: 0.5329 - acc: 0.8467 - val_loss: 1.6246 - val_acc: 0.4991\n",
            "Epoch 50/50\n",
            "50000/50000 [==============================] - 2s 36us/step - loss: 0.5162 - acc: 0.8519 - val_loss: 1.6354 - val_acc: 0.4955\n",
            "10000/10000 [==============================] - 1s 117us/step\n"
          ],
          "name": "stdout"
        }
      ]
    },
    {
      "cell_type": "code",
      "metadata": {
        "id": "XjeOt9tNZVfL",
        "colab_type": "code",
        "colab": {
          "base_uri": "https://localhost:8080/",
          "height": 545
        },
        "outputId": "005711a5-4900-4fcd-9661-cec9c2536554"
      },
      "source": [
        "import matplotlib.pyplot as plt\n",
        "%matplotlib inline\n",
        "\n",
        "plt.plot(range(len(train_loss)), train_loss, label=\"train loss\")\n",
        "plt.plot(range(len(valid_loss)), valid_loss, label=\"valid loss\")\n",
        "plt.hlines(y=loss_loadback, xmin=0, xmax=len(train_loss), colors='r', linestyles='--')\n",
        "plt.legend()\n",
        "plt.title(\"Loss\")\n",
        "plt.show()\n",
        "\n",
        "plt.plot(range(len(train_acc)), train_acc, label=\"train accuracy\")\n",
        "plt.plot(range(len(valid_acc)), valid_acc, label=\"valid accuracy\")\n",
        "plt.hlines(y=acc_loadback, xmin=0, xmax=len(train_loss), colors='r', linestyles='--')\n",
        "plt.legend()\n",
        "plt.title(\"Accuracy\")\n",
        "plt.show()"
      ],
      "execution_count": 10,
      "outputs": [
        {
          "output_type": "display_data",
          "data": {
            "image/png": "[encoded data removed]",
            "text/plain": [
              "<Figure size 432x288 with 1 Axes>"
            ]
          },
          "metadata": {
            "tags": []
          }
        },
        {
          "output_type": "display_data",
          "data": {
            "image/png": "[encoded data removed]",
            "text/plain": [
              "<Figure size 432x288 with 1 Axes>"
            ]
          },
          "metadata": {
            "tags": []
          }
        }
      ]
    },
    {
      "cell_type": "code",
      "metadata": {
        "id": "y9aSs624ddXQ",
        "colab_type": "code",
        "colab": {
          "base_uri": "https://localhost:8080/",
          "height": 1000
        },
        "outputId": "8fe39b6a-dc34-4490-834b-3d1a5be9b41c"
      },
      "source": [
        "# 載入 Callbacks\n",
        "\"\"\"Code Here\n",
        "設定 callbacks: model checkpoint\n",
        "\"\"\"\n",
        "from keras.callbacks import ModelCheckpoint\n",
        "\n",
        "model_ckpt = ModelCheckpoint(filepath=\"./tmp.h5\", \n",
        "                             monitor=\"val_loss\", \n",
        "                             save_weights_only=True)\n",
        "\n",
        "\n",
        "\"\"\"Code Here\n",
        "撰寫你的訓練流程並將結果用 dictionary 紀錄\n",
        "\"\"\"\n",
        "\n",
        "\n",
        "\"\"\"\n",
        "# 載入 Callbacks, 並將監控目標設為 validation loss, 且只存最佳參數時的模型\n",
        "\"\"\"\n",
        "results = {}\n",
        "model = build_mlp(input_shape=x_train.shape[1:])\n",
        "model.summary()\n",
        "optimizer = keras.optimizers.SGD(lr=LEARNING_RATE, nesterov=True, momentum=MOMENTUM)\n",
        "model.compile(loss=\"categorical_crossentropy\", metrics=[\"accuracy\"], optimizer=optimizer)\n",
        "\n",
        "model.fit(x_train, y_train, \n",
        "          epochs=EPOCHS, \n",
        "          batch_size=BATCH_SIZE, \n",
        "          validation_data=(x_test, y_test), \n",
        "          shuffle=True,\n",
        "          callbacks=[model_ckpt]\n",
        "         )\n",
        "\n",
        "# Collect results\n",
        "train_loss = model.history.history[\"loss\"]\n",
        "valid_loss = model.history.history[\"val_loss\"]\n",
        "train_acc = model.history.history[\"acc\"]\n",
        "valid_acc = model.history.history[\"val_acc\"]\n",
        "\n",
        "# Load back\n",
        "#model = keras.models.load_model(\"./tmp.h5\")\n",
        "#loss_loadback, acc_loadback = model.evaluate(x_test, y_test)"
      ],
      "execution_count": 13,
      "outputs": [
        {
          "output_type": "stream",
          "text": [
            "Model: \"model_4\"\n",
            "_________________________________________________________________\n",
            "Layer (type)                 Output Shape              Param #   \n",
            "=================================================================\n",
            "input_4 (InputLayer)         (None, 3072)              0         \n",
            "_________________________________________________________________\n",
            "hidden_layer1 (Dense)        (None, 512)               1573376   \n",
            "_________________________________________________________________\n",
            "batch_normalization_10 (Batc (None, 512)               2048      \n",
            "_________________________________________________________________\n",
            "hidden_layer2 (Dense)        (None, 256)               131328    \n",
            "_________________________________________________________________\n",
            "batch_normalization_11 (Batc (None, 256)               1024      \n",
            "_________________________________________________________________\n",
            "hidden_layer3 (Dense)        (None, 128)               32896     \n",
            "_________________________________________________________________\n",
            "batch_normalization_12 (Batc (None, 128)               512       \n",
            "_________________________________________________________________\n",
            "output (Dense)               (None, 10)                1290      \n",
            "=================================================================\n",
            "Total params: 1,742,474\n",
            "Trainable params: 1,740,682\n",
            "Non-trainable params: 1,792\n",
            "_________________________________________________________________\n",
            "Train on 50000 samples, validate on 10000 samples\n",
            "Epoch 1/50\n",
            "50000/50000 [==============================] - 3s 63us/step - loss: 2.2313 - acc: 0.2646 - val_loss: 2.0866 - val_acc: 0.3193\n",
            "Epoch 2/50\n",
            "50000/50000 [==============================] - 2s 35us/step - loss: 1.7540 - acc: 0.3894 - val_loss: 1.8497 - val_acc: 0.3760\n",
            "Epoch 3/50\n",
            "50000/50000 [==============================] - 2s 35us/step - loss: 1.6294 - acc: 0.4310 - val_loss: 1.7229 - val_acc: 0.4015\n",
            "Epoch 4/50\n",
            "50000/50000 [==============================] - 2s 36us/step - loss: 1.5560 - acc: 0.4565 - val_loss: 1.6899 - val_acc: 0.4173\n",
            "Epoch 5/50\n",
            "50000/50000 [==============================] - 2s 35us/step - loss: 1.4999 - acc: 0.4766 - val_loss: 1.6098 - val_acc: 0.4355\n",
            "Epoch 6/50\n",
            "50000/50000 [==============================] - 2s 35us/step - loss: 1.4535 - acc: 0.4924 - val_loss: 1.5771 - val_acc: 0.4493\n",
            "Epoch 7/50\n",
            "50000/50000 [==============================] - 2s 35us/step - loss: 1.4121 - acc: 0.5080 - val_loss: 1.5737 - val_acc: 0.4473\n",
            "Epoch 8/50\n",
            "50000/50000 [==============================] - 2s 35us/step - loss: 1.3749 - acc: 0.5212 - val_loss: 1.5479 - val_acc: 0.4591\n",
            "Epoch 9/50\n",
            "50000/50000 [==============================] - 2s 36us/step - loss: 1.3451 - acc: 0.5334 - val_loss: 1.5261 - val_acc: 0.4638\n",
            "Epoch 10/50\n",
            "50000/50000 [==============================] - 2s 36us/step - loss: 1.3137 - acc: 0.5428 - val_loss: 1.5284 - val_acc: 0.4632\n",
            "Epoch 11/50\n",
            "50000/50000 [==============================] - 2s 35us/step - loss: 1.2843 - acc: 0.5548 - val_loss: 1.5111 - val_acc: 0.4681\n",
            "Epoch 12/50\n",
            "50000/50000 [==============================] - 2s 35us/step - loss: 1.2579 - acc: 0.5635 - val_loss: 1.4962 - val_acc: 0.4760\n",
            "Epoch 13/50\n",
            "50000/50000 [==============================] - 2s 35us/step - loss: 1.2305 - acc: 0.5752 - val_loss: 1.4887 - val_acc: 0.4762\n",
            "Epoch 14/50\n",
            "50000/50000 [==============================] - 2s 36us/step - loss: 1.2050 - acc: 0.5842 - val_loss: 1.4867 - val_acc: 0.4757\n",
            "Epoch 15/50\n",
            "50000/50000 [==============================] - 2s 35us/step - loss: 1.1805 - acc: 0.5938 - val_loss: 1.4738 - val_acc: 0.4803\n",
            "Epoch 16/50\n",
            "50000/50000 [==============================] - 2s 35us/step - loss: 1.1586 - acc: 0.6018 - val_loss: 1.4846 - val_acc: 0.4779\n",
            "Epoch 17/50\n",
            "50000/50000 [==============================] - 2s 35us/step - loss: 1.1338 - acc: 0.6097 - val_loss: 1.4679 - val_acc: 0.4832\n",
            "Epoch 18/50\n",
            "50000/50000 [==============================] - 2s 35us/step - loss: 1.1125 - acc: 0.6189 - val_loss: 1.4634 - val_acc: 0.4882\n",
            "Epoch 19/50\n",
            "50000/50000 [==============================] - 2s 35us/step - loss: 1.0877 - acc: 0.6277 - val_loss: 1.4702 - val_acc: 0.4825\n",
            "Epoch 20/50\n",
            "50000/50000 [==============================] - 2s 35us/step - loss: 1.0684 - acc: 0.6358 - val_loss: 1.4643 - val_acc: 0.4836\n",
            "Epoch 21/50\n",
            "50000/50000 [==============================] - 2s 36us/step - loss: 1.0498 - acc: 0.6416 - val_loss: 1.4850 - val_acc: 0.4828\n",
            "Epoch 22/50\n",
            "50000/50000 [==============================] - 2s 35us/step - loss: 1.0269 - acc: 0.6502 - val_loss: 1.4834 - val_acc: 0.4839\n",
            "Epoch 23/50\n",
            "50000/50000 [==============================] - 2s 35us/step - loss: 1.0057 - acc: 0.6593 - val_loss: 1.4692 - val_acc: 0.4901\n",
            "Epoch 24/50\n",
            "50000/50000 [==============================] - 2s 35us/step - loss: 0.9837 - acc: 0.6675 - val_loss: 1.4708 - val_acc: 0.4901\n",
            "Epoch 25/50\n",
            "50000/50000 [==============================] - 2s 36us/step - loss: 0.9638 - acc: 0.6754 - val_loss: 1.4657 - val_acc: 0.4943\n",
            "Epoch 26/50\n",
            "50000/50000 [==============================] - 2s 37us/step - loss: 0.9431 - acc: 0.6841 - val_loss: 1.4730 - val_acc: 0.4899\n",
            "Epoch 27/50\n",
            "50000/50000 [==============================] - 2s 37us/step - loss: 0.9241 - acc: 0.6919 - val_loss: 1.4685 - val_acc: 0.4945\n",
            "Epoch 28/50\n",
            "50000/50000 [==============================] - 2s 36us/step - loss: 0.9023 - acc: 0.7016 - val_loss: 1.4850 - val_acc: 0.4911\n",
            "Epoch 29/50\n",
            "50000/50000 [==============================] - 2s 36us/step - loss: 0.8828 - acc: 0.7084 - val_loss: 1.4802 - val_acc: 0.4944\n",
            "Epoch 30/50\n",
            "50000/50000 [==============================] - 2s 37us/step - loss: 0.8632 - acc: 0.7154 - val_loss: 1.4967 - val_acc: 0.4892\n",
            "Epoch 31/50\n",
            "50000/50000 [==============================] - 2s 35us/step - loss: 0.8434 - acc: 0.7222 - val_loss: 1.4993 - val_acc: 0.4929\n",
            "Epoch 32/50\n",
            "50000/50000 [==============================] - 2s 36us/step - loss: 0.8256 - acc: 0.7307 - val_loss: 1.5004 - val_acc: 0.4933\n",
            "Epoch 33/50\n",
            "50000/50000 [==============================] - 2s 36us/step - loss: 0.8073 - acc: 0.7371 - val_loss: 1.5094 - val_acc: 0.4946\n",
            "Epoch 34/50\n",
            "50000/50000 [==============================] - 2s 36us/step - loss: 0.7875 - acc: 0.7461 - val_loss: 1.5121 - val_acc: 0.4906\n",
            "Epoch 35/50\n",
            "50000/50000 [==============================] - 2s 35us/step - loss: 0.7675 - acc: 0.7559 - val_loss: 1.5228 - val_acc: 0.4914\n",
            "Epoch 36/50\n",
            "50000/50000 [==============================] - 2s 36us/step - loss: 0.7476 - acc: 0.7621 - val_loss: 1.5442 - val_acc: 0.4852\n",
            "Epoch 37/50\n",
            "50000/50000 [==============================] - 2s 36us/step - loss: 0.7314 - acc: 0.7680 - val_loss: 1.5359 - val_acc: 0.4916\n",
            "Epoch 38/50\n",
            "50000/50000 [==============================] - 2s 36us/step - loss: 0.7132 - acc: 0.7765 - val_loss: 1.5404 - val_acc: 0.4967\n",
            "Epoch 39/50\n",
            "50000/50000 [==============================] - 2s 36us/step - loss: 0.6934 - acc: 0.7844 - val_loss: 1.5511 - val_acc: 0.4933\n",
            "Epoch 40/50\n",
            "50000/50000 [==============================] - 2s 36us/step - loss: 0.6759 - acc: 0.7900 - val_loss: 1.5737 - val_acc: 0.4886\n",
            "Epoch 41/50\n",
            "50000/50000 [==============================] - 2s 35us/step - loss: 0.6570 - acc: 0.7974 - val_loss: 1.5826 - val_acc: 0.4916\n",
            "Epoch 42/50\n",
            "50000/50000 [==============================] - 2s 35us/step - loss: 0.6394 - acc: 0.8060 - val_loss: 1.5812 - val_acc: 0.4885\n",
            "Epoch 43/50\n",
            "50000/50000 [==============================] - 2s 36us/step - loss: 0.6217 - acc: 0.8131 - val_loss: 1.5929 - val_acc: 0.4871\n",
            "Epoch 44/50\n",
            "50000/50000 [==============================] - 2s 36us/step - loss: 0.6051 - acc: 0.8190 - val_loss: 1.6141 - val_acc: 0.4917\n",
            "Epoch 45/50\n",
            "50000/50000 [==============================] - 2s 35us/step - loss: 0.5887 - acc: 0.8248 - val_loss: 1.6213 - val_acc: 0.4858\n",
            "Epoch 46/50\n",
            "50000/50000 [==============================] - 2s 36us/step - loss: 0.5701 - acc: 0.8340 - val_loss: 1.6273 - val_acc: 0.4870\n",
            "Epoch 47/50\n",
            "50000/50000 [==============================] - 2s 35us/step - loss: 0.5533 - acc: 0.8378 - val_loss: 1.6365 - val_acc: 0.4921\n",
            "Epoch 48/50\n",
            "50000/50000 [==============================] - 2s 35us/step - loss: 0.5357 - acc: 0.8469 - val_loss: 1.6628 - val_acc: 0.4929\n",
            "Epoch 49/50\n",
            "50000/50000 [==============================] - 2s 35us/step - loss: 0.5217 - acc: 0.8529 - val_loss: 1.6858 - val_acc: 0.4866\n",
            "Epoch 50/50\n",
            "50000/50000 [==============================] - 2s 35us/step - loss: 0.5052 - acc: 0.8590 - val_loss: 1.6988 - val_acc: 0.4861\n"
          ],
          "name": "stdout"
        }
      ]
    },
    {
      "cell_type": "code",
      "metadata": {
        "id": "N7SXOEVIg_Lr",
        "colab_type": "code",
        "colab": {
          "base_uri": "https://localhost:8080/",
          "height": 34
        },
        "outputId": "7289c7de-e085-425b-d6b6-80a3f4aed1e7"
      },
      "source": [
        "# Create a basic model instance\n",
        "# model = create_model()\n",
        "\n",
        "# Evaluate the model\n",
        "loss_loadback, acc_loadback = model.evaluate(x_test, y_test, verbose=2)\n",
        "print(\"Untrained model, accuracy: {:5.2f}%\".format(100*acc_loadback))"
      ],
      "execution_count": 15,
      "outputs": [
        {
          "output_type": "stream",
          "text": [
            "Untrained model, accuracy: 48.61%\n"
          ],
          "name": "stdout"
        }
      ]
    },
    {
      "cell_type": "code",
      "metadata": {
        "id": "Vwgj3CUvhHvY",
        "colab_type": "code",
        "colab": {
          "base_uri": "https://localhost:8080/",
          "height": 34
        },
        "outputId": "4b2f861f-3853-49f5-c782-269b8bbc282a"
      },
      "source": [
        "# Loads the weights\n",
        "model.load_weights(\"./tmp.h5\")\n",
        "\n",
        "# Re-evaluate the model\n",
        "loss_loadback, acc_loadback = model.evaluate(x_test, y_test, verbose=2)\n",
        "print(\"Restored model, accuracy: {:5.2f}%\".format(100*acc_loadback))"
      ],
      "execution_count": 16,
      "outputs": [
        {
          "output_type": "stream",
          "text": [
            "Restored model, accuracy: 48.61%\n"
          ],
          "name": "stdout"
        }
      ]
    },
    {
      "cell_type": "code",
      "metadata": {
        "id": "mmT_tLuMdmyW",
        "colab_type": "code",
        "colab": {
          "base_uri": "https://localhost:8080/",
          "height": 545
        },
        "outputId": "050021c1-7386-4cda-8bd3-4122cc7d747d"
      },
      "source": [
        "import matplotlib.pyplot as plt\n",
        "%matplotlib inline\n",
        "\n",
        "plt.plot(range(len(train_loss)), train_loss, label=\"train loss\")\n",
        "plt.plot(range(len(valid_loss)), valid_loss, label=\"valid loss\")\n",
        "plt.hlines(y=loss_loadback, xmin=0, xmax=len(train_loss), colors='r', linestyles='--')\n",
        "plt.legend()\n",
        "plt.title(\"Loss\")\n",
        "plt.show()\n",
        "\n",
        "plt.plot(range(len(train_acc)), train_acc, label=\"train accuracy\")\n",
        "plt.plot(range(len(valid_acc)), valid_acc, label=\"valid accuracy\")\n",
        "plt.hlines(y=acc_loadback, xmin=0, xmax=len(train_loss), colors='r', linestyles='--')\n",
        "plt.legend()\n",
        "plt.title(\"Accuracy\")\n",
        "plt.show()"
      ],
      "execution_count": 17,
      "outputs": [
        {
          "output_type": "display_data",
          "data": {
            "image/png": "[encoded data removed]",
            "text/plain": [
              "<Figure size 432x288 with 1 Axes>"
            ]
          },
          "metadata": {
            "tags": []
          }
        },
        {
          "output_type": "display_data",
          "data": {
            "image/png": "[encoded data removed]",
            "text/plain": [
              "<Figure size 432x288 with 1 Axes>"
            ]
          },
          "metadata": {
            "tags": []
          }
        }
      ]
    }
  ]
}