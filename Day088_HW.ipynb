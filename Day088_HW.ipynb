{
  "nbformat": 4,
  "nbformat_minor": 0,
  "metadata": {
    "kernelspec": {
      "name": "python3",
      "display_name": "Python 3"
    },
    "language_info": {
      "codemirror_mode": {
        "name": "ipython",
        "version": 3
      },
      "file_extension": ".py",
      "mimetype": "text/x-python",
      "name": "python",
      "nbconvert_exporter": "python",
      "pygments_lexer": "ipython3",
      "version": "3.6.5"
    },
    "colab": {
      "name": "Day088_HW.ipynb",
      "provenance": []
    },
    "accelerator": "GPU"
  },
  "cells": [
    {
      "cell_type": "markdown",
      "metadata": {
        "id": "WSI1JGBWxl1W",
        "colab_type": "text"
      },
      "source": [
        "## Work\n",
        "1. 請嘗試寫一個 callback 用來記錄各類別在訓練過程中，對驗證集的 True Positive 與 True Negative"
      ]
    },
    {
      "cell_type": "code",
      "metadata": {
        "id": "TYgNkA2zxl1X",
        "colab_type": "code",
        "colab": {
          "base_uri": "https://localhost:8080/",
          "height": 81
        },
        "outputId": "c8316478-adca-4e8c-eb32-315f5a40734b"
      },
      "source": [
        "import os\n",
        "import keras\n",
        "\n",
        "# Disable GPU\n",
        "os.environ[\"CUDA_VISIBLE_DEVICES\"] = \"0\""
      ],
      "execution_count": 1,
      "outputs": [
        {
          "output_type": "stream",
          "text": [
            "Using TensorFlow backend.\n"
          ],
          "name": "stderr"
        },
        {
          "output_type": "display_data",
          "data": {
            "text/html": [
              "<p style=\"color: red;\">\n",
              "The default version of TensorFlow in Colab will soon switch to TensorFlow 2.x.<br>\n",
              "We recommend you <a href=\"https://www.tensorflow.org/guide/migrate\" target=\"_blank\">upgrade</a> now \n",
              "or ensure your notebook will continue to use TensorFlow 1.x via the <code>%tensorflow_version 1.x</code> magic:\n",
              "<a href=\"https://colab.research.google.com/notebooks/tensorflow_version.ipynb\" target=\"_blank\">more info</a>.</p>\n"
            ],
            "text/plain": [
              "<IPython.core.display.HTML object>"
            ]
          },
          "metadata": {
            "tags": []
          }
        }
      ]
    },
    {
      "cell_type": "code",
      "metadata": {
        "id": "rUuRoWb9xl1Z",
        "colab_type": "code",
        "colab": {
          "base_uri": "https://localhost:8080/",
          "height": 52
        },
        "outputId": "7d986e24-d71a-4c6c-db19-230d9ab84033"
      },
      "source": [
        "train, test = keras.datasets.cifar10.load_data()"
      ],
      "execution_count": 2,
      "outputs": [
        {
          "output_type": "stream",
          "text": [
            "Downloading data from https://www.cs.toronto.edu/~kriz/cifar-10-python.tar.gz\n",
            "170500096/170498071 [==============================] - 6s 0us/step\n"
          ],
          "name": "stdout"
        }
      ]
    },
    {
      "cell_type": "code",
      "metadata": {
        "id": "GlCKqVqtxl1b",
        "colab_type": "code",
        "colab": {}
      },
      "source": [
        "## 資料前處理\n",
        "def preproc_x(x, flatten=True):\n",
        "    x = x / 255.\n",
        "    if flatten:\n",
        "        x = x.reshape((len(x), -1))\n",
        "    return x\n",
        "\n",
        "def preproc_y(y, num_classes=10):\n",
        "    if y.shape[-1] == 1:\n",
        "        y = keras.utils.to_categorical(y, num_classes)\n",
        "    return y    "
      ],
      "execution_count": 0,
      "outputs": []
    },
    {
      "cell_type": "code",
      "metadata": {
        "id": "WSi2pXjdxl1d",
        "colab_type": "code",
        "colab": {}
      },
      "source": [
        "x_train, y_train = train\n",
        "x_test, y_test = test\n",
        "\n",
        "# Preproc the inputs\n",
        "x_train = preproc_x(x_train)\n",
        "x_test = preproc_x(x_test)\n",
        "\n",
        "# Preprc the outputs\n",
        "y_train = preproc_y(y_train)\n",
        "y_test = preproc_y(y_test)"
      ],
      "execution_count": 0,
      "outputs": []
    },
    {
      "cell_type": "code",
      "metadata": {
        "id": "RCnwQjS2xl1f",
        "colab_type": "code",
        "colab": {}
      },
      "source": [
        "from keras.layers import BatchNormalization\n",
        "def build_mlp(input_shape, output_units=10, num_neurons=[512, 256, 128]):\n",
        "    input_layer = keras.layers.Input(input_shape)\n",
        "    \n",
        "    for i, n_units in enumerate(num_neurons):\n",
        "        if i == 0:\n",
        "            x = keras.layers.Dense(units=n_units, \n",
        "                                   activation=\"relu\", \n",
        "                                   name=\"hidden_layer\"+str(i+1))(input_layer)\n",
        "            x = BatchNormalization()(x)\n",
        "        else:\n",
        "            x = keras.layers.Dense(units=n_units, \n",
        "                                   activation=\"relu\", \n",
        "                                   name=\"hidden_layer\"+str(i+1))(x)\n",
        "            x = BatchNormalization()(x)\n",
        "    \n",
        "    out = keras.layers.Dense(units=output_units, activation=\"softmax\", name=\"output\")(x)\n",
        "    \n",
        "    model = keras.models.Model(inputs=[input_layer], outputs=[out])\n",
        "    return model"
      ],
      "execution_count": 0,
      "outputs": []
    },
    {
      "cell_type": "code",
      "metadata": {
        "id": "yhP29oJ5xl1h",
        "colab_type": "code",
        "colab": {}
      },
      "source": [
        "## 超參數設定\n",
        "LEARNING_RATE = 1e-3\n",
        "EPOCHS = 25\n",
        "BATCH_SIZE = 1024\n",
        "MOMENTUM = 0.95"
      ],
      "execution_count": 0,
      "outputs": []
    },
    {
      "cell_type": "code",
      "metadata": {
        "id": "35kaWRiWxl1j",
        "colab_type": "code",
        "colab": {}
      },
      "source": [
        "# 載入 Callbacks\n",
        "from keras.callbacks import Callback\n",
        "from sklearn.metrics import f1_score\n",
        "\n",
        "\"\"\"Code Here\n",
        "    撰寫一個紀錄 ture positive 與 true negative 數量的 callbacks    \n",
        "    \"\"\"\n",
        "class Record_tp_tn(Callback):\n",
        "    def on_train_begin(self, epoch, logs = {}):\n",
        "        logs = logs or {}\n",
        "        record_items = [\"val_auc\", \"val_f1sc\", \"val_fp\", \"val_fn\", \"val_tp\", \"val_tn\"]\n",
        "        for i in record_items:\n",
        "            if i not in self.params['metrics']:\n",
        "                self.params['metrics'].append(i)\n",
        "    \n",
        "    def on_epoch_end(self, epoch, logs = {}, thres=0.5):\n",
        "        logs = logs or {}\n",
        "        y_true = self.validation_data[1].argmax(axis = 1)\n",
        "        y_pred = self.model.predict(self.validation_data[0])\n",
        "        y_pred = (y_pred[:, 1] >= thres) * 1\n",
        "        \n",
        "        logs[\"val_tp\"] = f1_score(y_true = y_true, y_pred = y_pred, average=\"weighted\")\n",
        "        logs[\"val_tn\"] = f1_score(y_true = y_true, y_pred = y_pred, average=\"weighted\")\n",
        "\n",
        "rec_tptn = Record_tp_tn()"
      ],
      "execution_count": 0,
      "outputs": []
    },
    {
      "cell_type": "code",
      "metadata": {
        "scrolled": true,
        "id": "yEM8AuC9xl1k",
        "colab_type": "code",
        "colab": {
          "base_uri": "https://localhost:8080/",
          "height": 1000
        },
        "outputId": "2889cdd1-e4db-4d99-d5d9-64539568c55c"
      },
      "source": [
        "model = build_mlp(input_shape=x_train.shape[1:])\n",
        "model.summary()\n",
        "optimizer = keras.optimizers.SGD(lr=LEARNING_RATE, nesterov=True, momentum=MOMENTUM)\n",
        "model.compile(loss=\"categorical_crossentropy\", metrics=[\"accuracy\"], optimizer=optimizer)\n",
        "\n",
        "\"\"\"Code Here\n",
        "將 callbacks 放入模型訓練流程中\n",
        "\"\"\"\n",
        "model.fit(x_train, y_train, \n",
        "          epochs=EPOCHS, \n",
        "          batch_size=BATCH_SIZE, \n",
        "          validation_data=(x_test, y_test), \n",
        "          shuffle=True,\n",
        "          callbacks=[rec_tptn]\n",
        "         )\n",
        "\n",
        "# Collect results\n",
        "train_loss = model.history.history[\"loss\"]\n",
        "valid_loss = model.history.history[\"val_loss\"]\n",
        "train_acc = model.history.history[\"acc\"]\n",
        "valid_acc = model.history.history[\"val_acc\"]\n",
        "\n",
        "\"\"\"Code Here\n",
        "將 tp/tn 從訓練完的模型中取出\n",
        "\"\"\"\n",
        "valid_tp = model.history.history[\"val_tp\"]\n",
        "valid_tn = model.history.history[\"val_tn\"]\n",
        "\n",
        "#valid_f1sc = model.history.history['val_f1sc']"
      ],
      "execution_count": 13,
      "outputs": [
        {
          "output_type": "stream",
          "text": [
            "Model: \"model_4\"\n",
            "_________________________________________________________________\n",
            "Layer (type)                 Output Shape              Param #   \n",
            "=================================================================\n",
            "input_4 (InputLayer)         (None, 3072)              0         \n",
            "_________________________________________________________________\n",
            "hidden_layer1 (Dense)        (None, 512)               1573376   \n",
            "_________________________________________________________________\n",
            "batch_normalization_10 (Batc (None, 512)               2048      \n",
            "_________________________________________________________________\n",
            "hidden_layer2 (Dense)        (None, 256)               131328    \n",
            "_________________________________________________________________\n",
            "batch_normalization_11 (Batc (None, 256)               1024      \n",
            "_________________________________________________________________\n",
            "hidden_layer3 (Dense)        (None, 128)               32896     \n",
            "_________________________________________________________________\n",
            "batch_normalization_12 (Batc (None, 128)               512       \n",
            "_________________________________________________________________\n",
            "output (Dense)               (None, 10)                1290      \n",
            "=================================================================\n",
            "Total params: 1,742,474\n",
            "Trainable params: 1,740,682\n",
            "Non-trainable params: 1,792\n",
            "_________________________________________________________________\n",
            "Train on 50000 samples, validate on 10000 samples\n",
            "Epoch 1/25\n",
            "50000/50000 [==============================] - 2s 43us/step - loss: 2.1972 - acc: 0.2683 - val_loss: 2.0104 - val_acc: 0.3274\n",
            "Epoch 2/25\n",
            " 7168/50000 [===>..........................] - ETA: 0s - loss: 1.7962 - acc: 0.3758"
          ],
          "name": "stdout"
        },
        {
          "output_type": "stream",
          "text": [
            "/usr/local/lib/python3.6/dist-packages/sklearn/metrics/classification.py:1437: UndefinedMetricWarning: F-score is ill-defined and being set to 0.0 in labels with no predicted samples.\n",
            "  'precision', 'predicted', average, warn_for)\n"
          ],
          "name": "stderr"
        },
        {
          "output_type": "stream",
          "text": [
            "50000/50000 [==============================] - 1s 24us/step - loss: 1.7329 - acc: 0.3928 - val_loss: 1.7791 - val_acc: 0.3893\n",
            "Epoch 3/25\n",
            "50000/50000 [==============================] - 1s 25us/step - loss: 1.6045 - acc: 0.4374 - val_loss: 1.6655 - val_acc: 0.4176\n",
            "Epoch 4/25\n",
            "50000/50000 [==============================] - 1s 24us/step - loss: 1.5299 - acc: 0.4646 - val_loss: 1.6201 - val_acc: 0.4327\n",
            "Epoch 5/25\n",
            "50000/50000 [==============================] - 1s 23us/step - loss: 1.4765 - acc: 0.4835 - val_loss: 1.5796 - val_acc: 0.4444\n",
            "Epoch 6/25\n",
            "50000/50000 [==============================] - 1s 23us/step - loss: 1.4317 - acc: 0.5007 - val_loss: 1.5578 - val_acc: 0.4532\n",
            "Epoch 7/25\n",
            "50000/50000 [==============================] - 1s 24us/step - loss: 1.3920 - acc: 0.5141 - val_loss: 1.5295 - val_acc: 0.4595\n",
            "Epoch 8/25\n",
            "50000/50000 [==============================] - 1s 24us/step - loss: 1.3562 - acc: 0.5271 - val_loss: 1.5180 - val_acc: 0.4644\n",
            "Epoch 9/25\n",
            "50000/50000 [==============================] - 1s 26us/step - loss: 1.3238 - acc: 0.5396 - val_loss: 1.5019 - val_acc: 0.4749\n",
            "Epoch 10/25\n",
            "50000/50000 [==============================] - 1s 25us/step - loss: 1.2941 - acc: 0.5511 - val_loss: 1.4932 - val_acc: 0.4683\n",
            "Epoch 11/25\n",
            "50000/50000 [==============================] - 1s 24us/step - loss: 1.2654 - acc: 0.5619 - val_loss: 1.4819 - val_acc: 0.4778\n",
            "Epoch 12/25\n",
            "50000/50000 [==============================] - 1s 24us/step - loss: 1.2365 - acc: 0.5725 - val_loss: 1.4761 - val_acc: 0.4790\n",
            "Epoch 13/25\n",
            "50000/50000 [==============================] - 1s 24us/step - loss: 1.2137 - acc: 0.5814 - val_loss: 1.4726 - val_acc: 0.4790\n",
            "Epoch 14/25\n",
            "50000/50000 [==============================] - 1s 24us/step - loss: 1.1861 - acc: 0.5919 - val_loss: 1.4691 - val_acc: 0.4827\n",
            "Epoch 15/25\n",
            "50000/50000 [==============================] - 1s 24us/step - loss: 1.1621 - acc: 0.5994 - val_loss: 1.4690 - val_acc: 0.4838\n",
            "Epoch 16/25\n",
            "50000/50000 [==============================] - 1s 23us/step - loss: 1.1388 - acc: 0.6095 - val_loss: 1.4755 - val_acc: 0.4911\n",
            "Epoch 17/25\n",
            "50000/50000 [==============================] - 1s 25us/step - loss: 1.1159 - acc: 0.6182 - val_loss: 1.4540 - val_acc: 0.4934\n",
            "Epoch 18/25\n",
            "50000/50000 [==============================] - 1s 23us/step - loss: 1.0917 - acc: 0.6281 - val_loss: 1.4596 - val_acc: 0.4873\n",
            "Epoch 19/25\n",
            "50000/50000 [==============================] - 1s 25us/step - loss: 1.0683 - acc: 0.6370 - val_loss: 1.4563 - val_acc: 0.4906\n",
            "Epoch 20/25\n",
            "50000/50000 [==============================] - 1s 25us/step - loss: 1.0455 - acc: 0.6450 - val_loss: 1.4706 - val_acc: 0.4929\n",
            "Epoch 21/25\n",
            "50000/50000 [==============================] - 1s 24us/step - loss: 1.0242 - acc: 0.6551 - val_loss: 1.4657 - val_acc: 0.4940\n",
            "Epoch 22/25\n",
            "50000/50000 [==============================] - 1s 24us/step - loss: 1.0029 - acc: 0.6624 - val_loss: 1.4655 - val_acc: 0.4941\n",
            "Epoch 23/25\n",
            "50000/50000 [==============================] - 1s 24us/step - loss: 0.9816 - acc: 0.6721 - val_loss: 1.4632 - val_acc: 0.4936\n",
            "Epoch 24/25\n",
            "50000/50000 [==============================] - 1s 24us/step - loss: 0.9597 - acc: 0.6779 - val_loss: 1.4672 - val_acc: 0.4935\n",
            "Epoch 25/25\n",
            "50000/50000 [==============================] - 1s 23us/step - loss: 0.9392 - acc: 0.6871 - val_loss: 1.4703 - val_acc: 0.4948\n"
          ],
          "name": "stdout"
        }
      ]
    },
    {
      "cell_type": "code",
      "metadata": {
        "id": "wTo2cTAAxl1m",
        "colab_type": "code",
        "colab": {
          "base_uri": "https://localhost:8080/",
          "height": 809
        },
        "outputId": "8fe516a1-b6d0-4f2e-f1b2-deca83cbbc3a"
      },
      "source": [
        "import matplotlib.pyplot as plt\n",
        "%matplotlib inline\n",
        "\n",
        "plt.plot(range(len(train_loss)), train_loss, label=\"train loss\")\n",
        "plt.plot(range(len(valid_loss)), valid_loss, label=\"valid loss\")\n",
        "plt.legend()\n",
        "plt.title(\"Loss\")\n",
        "plt.show()\n",
        "\n",
        "plt.plot(range(len(train_acc)), train_acc, label=\"train accuracy\")\n",
        "plt.plot(range(len(valid_acc)), valid_acc, label=\"valid accuracy\")\n",
        "plt.legend()\n",
        "plt.title(\"Accuracy\")\n",
        "plt.show()\n",
        "\n",
        "plt.plot(range(len(valid_tp)), valid_tp, label=\"valid tp\", color=\"navy\")\n",
        "plt.plot(range(len(valid_tn)), valid_tn, label=\"valid tn\", color=\"red\")\n",
        "plt.legend()\n",
        "plt.title(\"True positives and True Negatives\")\n",
        "plt.show()\n"
      ],
      "execution_count": 14,
      "outputs": [
        {
          "output_type": "display_data",
          "data": {
            "image/png": "[encoded data removed]",
            "text/plain": [
              "<Figure size 432x288 with 1 Axes>"
            ]
          },
          "metadata": {
            "tags": []
          }
        },
        {
          "output_type": "display_data",
          "data": {
            "image/png": "[encoded data removed]",
            "text/plain": [
              "<Figure size 432x288 with 1 Axes>"
            ]
          },
          "metadata": {
            "tags": []
          }
        },
        {
          "output_type": "display_data",
          "data": {
            "image/png": "[encoded data removed]",
            "text/plain": [
              "<Figure size 432x288 with 1 Axes>"
            ]
          },
          "metadata": {
            "tags": []
          }
        }
      ]
    }
  ]
}