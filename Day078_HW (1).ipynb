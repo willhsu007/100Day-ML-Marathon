{
  "nbformat": 4,
  "nbformat_minor": 0,
  "metadata": {
    "kernelspec": {
      "name": "python3",
      "display_name": "Python 3"
    },
    "language_info": {
      "codemirror_mode": {
        "name": "ipython",
        "version": 3
      },
      "file_extension": ".py",
      "mimetype": "text/x-python",
      "name": "python",
      "nbconvert_exporter": "python",
      "pygments_lexer": "ipython3",
      "version": "3.6.5"
    },
    "colab": {
      "name": "Day078_HW.ipynb",
      "provenance": [],
      "collapsed_sections": []
    },
    "accelerator": "GPU"
  },
  "cells": [
    {
      "cell_type": "markdown",
      "metadata": {
        "id": "g-k_npl8Q2OQ",
        "colab_type": "text"
      },
      "source": [
        "## Work\n",
        "1. 請嘗試將 preproc_x 替換成以每筆資料的 min/max 進行標準化至 -1 ~ 1 間，再進行訓練\n",
        "2. 請嘗試將 mlp 疊更深 (e.g 5~10 層)，進行訓練後觀察 learning curve 的走勢\n",
        "3. (optional) 請改用 GPU 進行訓練 (如果你有 GPU 的話)，比較使用 CPU 與 GPU 的訓練速度"
      ]
    },
    {
      "cell_type": "code",
      "metadata": {
        "id": "HIbLPusVQ2OV",
        "colab_type": "code",
        "outputId": "15163ed3-b20e-4ad4-be0f-5e3560d81139",
        "colab": {
          "base_uri": "https://localhost:8080/",
          "height": 290
        }
      },
      "source": [
        "\n",
        "!nvidia-smi"
      ],
      "execution_count": 61,
      "outputs": [
        {
          "output_type": "stream",
          "text": [
            "Sat Nov 23 09:05:28 2019       \n",
            "+-----------------------------------------------------------------------------+\n",
            "| NVIDIA-SMI 440.33.01    Driver Version: 418.67       CUDA Version: 10.1     |\n",
            "|-------------------------------+----------------------+----------------------+\n",
            "| GPU  Name        Persistence-M| Bus-Id        Disp.A | Volatile Uncorr. ECC |\n",
            "| Fan  Temp  Perf  Pwr:Usage/Cap|         Memory-Usage | GPU-Util  Compute M. |\n",
            "|===============================+======================+======================|\n",
            "|   0  Tesla K80           Off  | 00000000:00:04.0 Off |                    0 |\n",
            "| N/A   73C    P0    72W / 149W |    284MiB / 11441MiB |      0%      Default |\n",
            "+-------------------------------+----------------------+----------------------+\n",
            "                                                                               \n",
            "+-----------------------------------------------------------------------------+\n",
            "| Processes:                                                       GPU Memory |\n",
            "|  GPU       PID   Type   Process name                             Usage      |\n",
            "|=============================================================================|\n",
            "+-----------------------------------------------------------------------------+\n"
          ],
          "name": "stdout"
        }
      ]
    },
    {
      "cell_type": "code",
      "metadata": {
        "id": "DA7QJ9DLQ2Oa",
        "colab_type": "code",
        "colab": {}
      },
      "source": [
        "import os\n",
        "import keras\n",
        "\n",
        "# 請嘗試設定 GPU：os.environ\n",
        "os.environ[\"CUDA_VISIBLE_DEVICES\"] = \"0\"\n"
      ],
      "execution_count": 0,
      "outputs": []
    },
    {
      "cell_type": "code",
      "metadata": {
        "id": "5ey0fmvUQ2Oe",
        "colab_type": "code",
        "colab": {}
      },
      "source": [
        "train, test = keras.datasets.cifar10.load_data()"
      ],
      "execution_count": 0,
      "outputs": []
    },
    {
      "cell_type": "code",
      "metadata": {
        "id": "NAv2rc49Q2Oh",
        "colab_type": "code",
        "colab": {}
      },
      "source": [
        "## 資料前處理\n",
        "\n",
        "def preproc_x(x, flatten=True):\n",
        "    x = x / 255.\n",
        "    if flatten:\n",
        "        x = x.reshape((len(x), -1))\n",
        "    return x\n",
        "\n",
        "def preproc_y(y, num_classes=10):\n",
        "    if y.shape[-1] == 1:\n",
        "        y = keras.utils.to_categorical(y, num_classes)\n",
        "    return y    "
      ],
      "execution_count": 0,
      "outputs": []
    },
    {
      "cell_type": "code",
      "metadata": {
        "id": "Ls9Flh_UQ2Oj",
        "colab_type": "code",
        "colab": {}
      },
      "source": [
        "x_train, y_train = train\n",
        "x_test, y_test = test\n",
        "\n",
        "# Preproc the inputs\n",
        "x_train = preproc_x(x_train)\n",
        "x_test = preproc_x(x_test)\n",
        "\n",
        "# Preprc the outputs\n",
        "y_train = preproc_y(y_train)\n",
        "y_test = preproc_y(y_test)"
      ],
      "execution_count": 0,
      "outputs": []
    },
    {
      "cell_type": "code",
      "metadata": {
        "id": "cvkKPMLrQ2Om",
        "colab_type": "code",
        "colab": {}
      },
      "source": [
        "def build_mlp(input_shape, output_units=10, num_neurons=[512, 256, 128, 64, 32]):\n",
        "    input_layer = keras.layers.Input(input_shape)    \n",
        "    for i, n_units in enumerate(num_neurons):\n",
        "        if i == 0:\n",
        "            x = keras.layers.Dense(units=n_units, activation=\"relu\", name=\"hidden_layer\"+str(i+1))(input_layer)\n",
        "        else:\n",
        "            x = keras.layers.Dense(units=n_units, activation=\"relu\", name=\"hidden_layer\"+str(i+1))(x)\n",
        "    \n",
        "    out = keras.layers.Dense(units=output_units, activation=\"softmax\", name=\"output\")(x)\n",
        "    \n",
        "    model = keras.models.Model(inputs=[input_layer], outputs=[out])\n",
        "    return model\n",
        "\n"
      ],
      "execution_count": 0,
      "outputs": []
    },
    {
      "cell_type": "code",
      "metadata": {
        "id": "eW4-HjU0Z45H",
        "colab_type": "code",
        "outputId": "47bce076-b4ce-4b2c-a1c9-ea42af938840",
        "colab": {
          "base_uri": "https://localhost:8080/",
          "height": 393
        }
      },
      "source": [
        "model = build_mlp(input_shape=x_train.shape[1:])\n",
        "model.summary()"
      ],
      "execution_count": 67,
      "outputs": [
        {
          "output_type": "stream",
          "text": [
            "Model: \"model_11\"\n",
            "_________________________________________________________________\n",
            "Layer (type)                 Output Shape              Param #   \n",
            "=================================================================\n",
            "input_11 (InputLayer)        (None, 3072)              0         \n",
            "_________________________________________________________________\n",
            "hidden_layer1 (Dense)        (None, 512)               1573376   \n",
            "_________________________________________________________________\n",
            "hidden_layer2 (Dense)        (None, 256)               131328    \n",
            "_________________________________________________________________\n",
            "hidden_layer3 (Dense)        (None, 128)               32896     \n",
            "_________________________________________________________________\n",
            "hidden_layer4 (Dense)        (None, 64)                8256      \n",
            "_________________________________________________________________\n",
            "hidden_layer5 (Dense)        (None, 32)                2080      \n",
            "_________________________________________________________________\n",
            "output (Dense)               (None, 10)                330       \n",
            "=================================================================\n",
            "Total params: 1,748,266\n",
            "Trainable params: 1,748,266\n",
            "Non-trainable params: 0\n",
            "_________________________________________________________________\n"
          ],
          "name": "stdout"
        }
      ]
    },
    {
      "cell_type": "code",
      "metadata": {
        "id": "go1b8dtWQ2Oo",
        "colab_type": "code",
        "colab": {}
      },
      "source": [
        "## 超參數設定\n",
        "LEARNING_RATE = 0.001\n",
        "EPOCHS = 100\n",
        "BATCH_SIZE = 256"
      ],
      "execution_count": 0,
      "outputs": []
    },
    {
      "cell_type": "code",
      "metadata": {
        "id": "m_FNW5uwQ2Oq",
        "colab_type": "code",
        "colab": {}
      },
      "source": [
        "optimizer = keras.optimizers.Adam(lr=LEARNING_RATE)\n",
        "model.compile(loss=\"binary_crossentropy\", metrics=[\"accuracy\"], optimizer=optimizer)"
      ],
      "execution_count": 0,
      "outputs": []
    },
    {
      "cell_type": "code",
      "metadata": {
        "id": "dXRUrO1mQ2Os",
        "colab_type": "code",
        "outputId": "e450bf1d-cef0-4dfb-dd28-69432dfbca91",
        "colab": {
          "base_uri": "https://localhost:8080/",
          "height": 1000
        }
      },
      "source": [
        "model.fit(x_train, y_train, \n",
        "          epochs=EPOCHS, \n",
        "          batch_size=BATCH_SIZE, \n",
        "          validation_data=(x_test, y_test), \n",
        "          shuffle=True)"
      ],
      "execution_count": 70,
      "outputs": [
        {
          "output_type": "stream",
          "text": [
            "Train on 50000 samples, validate on 10000 samples\n",
            "Epoch 1/100\n",
            "50000/50000 [==============================] - 3s 69us/step - loss: 0.2931 - acc: 0.9009 - val_loss: 0.2771 - val_acc: 0.9027\n",
            "Epoch 2/100\n",
            "50000/50000 [==============================] - 3s 56us/step - loss: 0.2650 - acc: 0.9043 - val_loss: 0.2544 - val_acc: 0.9070\n",
            "Epoch 3/100\n",
            "50000/50000 [==============================] - 3s 55us/step - loss: 0.2528 - acc: 0.9066 - val_loss: 0.2456 - val_acc: 0.9083\n",
            "Epoch 4/100\n",
            "50000/50000 [==============================] - 3s 56us/step - loss: 0.2447 - acc: 0.9086 - val_loss: 0.2391 - val_acc: 0.9105\n",
            "Epoch 5/100\n",
            "50000/50000 [==============================] - 3s 56us/step - loss: 0.2371 - acc: 0.9106 - val_loss: 0.2399 - val_acc: 0.9090\n",
            "Epoch 6/100\n",
            "50000/50000 [==============================] - 3s 57us/step - loss: 0.2313 - acc: 0.9124 - val_loss: 0.2336 - val_acc: 0.9118\n",
            "Epoch 7/100\n",
            "50000/50000 [==============================] - 3s 57us/step - loss: 0.2256 - acc: 0.9141 - val_loss: 0.2300 - val_acc: 0.9123\n",
            "Epoch 8/100\n",
            "50000/50000 [==============================] - 3s 55us/step - loss: 0.2227 - acc: 0.9149 - val_loss: 0.2279 - val_acc: 0.9132\n",
            "Epoch 9/100\n",
            "50000/50000 [==============================] - 3s 55us/step - loss: 0.2190 - acc: 0.9161 - val_loss: 0.2229 - val_acc: 0.9147\n",
            "Epoch 10/100\n",
            "50000/50000 [==============================] - 3s 57us/step - loss: 0.2159 - acc: 0.9172 - val_loss: 0.2252 - val_acc: 0.9147\n",
            "Epoch 11/100\n",
            "50000/50000 [==============================] - 3s 56us/step - loss: 0.2118 - acc: 0.9185 - val_loss: 0.2224 - val_acc: 0.9155\n",
            "Epoch 12/100\n",
            "50000/50000 [==============================] - 3s 54us/step - loss: 0.2103 - acc: 0.9191 - val_loss: 0.2192 - val_acc: 0.9162\n",
            "Epoch 13/100\n",
            "50000/50000 [==============================] - 3s 56us/step - loss: 0.2057 - acc: 0.9208 - val_loss: 0.2171 - val_acc: 0.9166\n",
            "Epoch 14/100\n",
            "50000/50000 [==============================] - 3s 57us/step - loss: 0.2041 - acc: 0.9212 - val_loss: 0.2203 - val_acc: 0.9163\n",
            "Epoch 15/100\n",
            "50000/50000 [==============================] - 3s 55us/step - loss: 0.2005 - acc: 0.9223 - val_loss: 0.2164 - val_acc: 0.9170\n",
            "Epoch 16/100\n",
            "50000/50000 [==============================] - 3s 55us/step - loss: 0.1976 - acc: 0.9236 - val_loss: 0.2166 - val_acc: 0.9165\n",
            "Epoch 17/100\n",
            "50000/50000 [==============================] - 3s 57us/step - loss: 0.1938 - acc: 0.9252 - val_loss: 0.2237 - val_acc: 0.9146\n",
            "Epoch 18/100\n",
            "50000/50000 [==============================] - 3s 56us/step - loss: 0.1906 - acc: 0.9262 - val_loss: 0.2161 - val_acc: 0.9176\n",
            "Epoch 19/100\n",
            "50000/50000 [==============================] - 3s 55us/step - loss: 0.1887 - acc: 0.9268 - val_loss: 0.2118 - val_acc: 0.9200\n",
            "Epoch 20/100\n",
            "50000/50000 [==============================] - 3s 56us/step - loss: 0.1874 - acc: 0.9274 - val_loss: 0.2113 - val_acc: 0.9196\n",
            "Epoch 21/100\n",
            "50000/50000 [==============================] - 3s 56us/step - loss: 0.1830 - acc: 0.9292 - val_loss: 0.2128 - val_acc: 0.9190\n",
            "Epoch 22/100\n",
            "50000/50000 [==============================] - 3s 56us/step - loss: 0.1812 - acc: 0.9297 - val_loss: 0.2173 - val_acc: 0.9187\n",
            "Epoch 23/100\n",
            "50000/50000 [==============================] - 3s 55us/step - loss: 0.1771 - acc: 0.9315 - val_loss: 0.2170 - val_acc: 0.9175\n",
            "Epoch 24/100\n",
            "50000/50000 [==============================] - 3s 56us/step - loss: 0.1753 - acc: 0.9316 - val_loss: 0.2204 - val_acc: 0.9165\n",
            "Epoch 25/100\n",
            "50000/50000 [==============================] - 3s 55us/step - loss: 0.1724 - acc: 0.9331 - val_loss: 0.2177 - val_acc: 0.9183\n",
            "Epoch 26/100\n",
            "50000/50000 [==============================] - 3s 56us/step - loss: 0.1701 - acc: 0.9338 - val_loss: 0.2189 - val_acc: 0.9186\n",
            "Epoch 27/100\n",
            "50000/50000 [==============================] - 3s 54us/step - loss: 0.1683 - acc: 0.9345 - val_loss: 0.2145 - val_acc: 0.9190\n",
            "Epoch 28/100\n",
            "50000/50000 [==============================] - 3s 57us/step - loss: 0.1652 - acc: 0.9361 - val_loss: 0.2226 - val_acc: 0.9161\n",
            "Epoch 29/100\n",
            "50000/50000 [==============================] - 3s 60us/step - loss: 0.1626 - acc: 0.9370 - val_loss: 0.2185 - val_acc: 0.9183\n",
            "Epoch 30/100\n",
            "50000/50000 [==============================] - 3s 60us/step - loss: 0.1599 - acc: 0.9380 - val_loss: 0.2202 - val_acc: 0.9177\n",
            "Epoch 31/100\n",
            "50000/50000 [==============================] - 3s 55us/step - loss: 0.1587 - acc: 0.9386 - val_loss: 0.2235 - val_acc: 0.9192\n",
            "Epoch 32/100\n",
            "50000/50000 [==============================] - 3s 63us/step - loss: 0.1553 - acc: 0.9398 - val_loss: 0.2266 - val_acc: 0.9169\n",
            "Epoch 33/100\n",
            "50000/50000 [==============================] - 3s 66us/step - loss: 0.1535 - acc: 0.9407 - val_loss: 0.2262 - val_acc: 0.9165\n",
            "Epoch 34/100\n",
            "50000/50000 [==============================] - 3s 60us/step - loss: 0.1503 - acc: 0.9417 - val_loss: 0.2265 - val_acc: 0.9179\n",
            "Epoch 35/100\n",
            "50000/50000 [==============================] - 3s 60us/step - loss: 0.1472 - acc: 0.9432 - val_loss: 0.2264 - val_acc: 0.9178\n",
            "Epoch 36/100\n",
            "50000/50000 [==============================] - 3s 58us/step - loss: 0.1449 - acc: 0.9438 - val_loss: 0.2298 - val_acc: 0.9178\n",
            "Epoch 37/100\n",
            "50000/50000 [==============================] - 3s 63us/step - loss: 0.1449 - acc: 0.9439 - val_loss: 0.2327 - val_acc: 0.9167\n",
            "Epoch 38/100\n",
            "50000/50000 [==============================] - 3s 58us/step - loss: 0.1407 - acc: 0.9457 - val_loss: 0.2361 - val_acc: 0.9165\n",
            "Epoch 39/100\n",
            "50000/50000 [==============================] - 3s 64us/step - loss: 0.1388 - acc: 0.9466 - val_loss: 0.2380 - val_acc: 0.9162\n",
            "Epoch 40/100\n",
            "50000/50000 [==============================] - 3s 58us/step - loss: 0.1371 - acc: 0.9470 - val_loss: 0.2438 - val_acc: 0.9163\n",
            "Epoch 41/100\n",
            "50000/50000 [==============================] - 3s 59us/step - loss: 0.1344 - acc: 0.9482 - val_loss: 0.2495 - val_acc: 0.9138\n",
            "Epoch 42/100\n",
            "50000/50000 [==============================] - 3s 58us/step - loss: 0.1337 - acc: 0.9489 - val_loss: 0.2431 - val_acc: 0.9158\n",
            "Epoch 43/100\n",
            "50000/50000 [==============================] - 3s 63us/step - loss: 0.1308 - acc: 0.9496 - val_loss: 0.2484 - val_acc: 0.9153\n",
            "Epoch 44/100\n",
            "50000/50000 [==============================] - 3s 61us/step - loss: 0.1287 - acc: 0.9505 - val_loss: 0.2473 - val_acc: 0.9156\n",
            "Epoch 45/100\n",
            "50000/50000 [==============================] - 3s 61us/step - loss: 0.1253 - acc: 0.9517 - val_loss: 0.2531 - val_acc: 0.9150\n",
            "Epoch 46/100\n",
            "50000/50000 [==============================] - 3s 61us/step - loss: 0.1238 - acc: 0.9525 - val_loss: 0.2536 - val_acc: 0.9143\n",
            "Epoch 47/100\n",
            "50000/50000 [==============================] - 3s 61us/step - loss: 0.1230 - acc: 0.9529 - val_loss: 0.2609 - val_acc: 0.9139\n",
            "Epoch 48/100\n",
            "50000/50000 [==============================] - 3s 61us/step - loss: 0.1209 - acc: 0.9532 - val_loss: 0.2578 - val_acc: 0.9146\n",
            "Epoch 49/100\n",
            "50000/50000 [==============================] - 3s 62us/step - loss: 0.1189 - acc: 0.9544 - val_loss: 0.2643 - val_acc: 0.9125\n",
            "Epoch 50/100\n",
            "50000/50000 [==============================] - 3s 61us/step - loss: 0.1170 - acc: 0.9551 - val_loss: 0.2666 - val_acc: 0.9144\n",
            "Epoch 51/100\n",
            "50000/50000 [==============================] - 3s 63us/step - loss: 0.1161 - acc: 0.9556 - val_loss: 0.2711 - val_acc: 0.9123\n",
            "Epoch 52/100\n",
            "50000/50000 [==============================] - 3s 62us/step - loss: 0.1137 - acc: 0.9564 - val_loss: 0.2856 - val_acc: 0.9121\n",
            "Epoch 53/100\n",
            "50000/50000 [==============================] - 3s 62us/step - loss: 0.1100 - acc: 0.9579 - val_loss: 0.2836 - val_acc: 0.9101\n",
            "Epoch 54/100\n",
            "50000/50000 [==============================] - 3s 64us/step - loss: 0.1114 - acc: 0.9573 - val_loss: 0.2824 - val_acc: 0.9119\n",
            "Epoch 55/100\n",
            "50000/50000 [==============================] - 3s 64us/step - loss: 0.1098 - acc: 0.9579 - val_loss: 0.2834 - val_acc: 0.9127\n",
            "Epoch 56/100\n",
            "50000/50000 [==============================] - 3s 61us/step - loss: 0.1063 - acc: 0.9594 - val_loss: 0.2792 - val_acc: 0.9128\n",
            "Epoch 57/100\n",
            "50000/50000 [==============================] - 3s 57us/step - loss: 0.1077 - acc: 0.9587 - val_loss: 0.2816 - val_acc: 0.9140\n",
            "Epoch 58/100\n",
            "50000/50000 [==============================] - 3s 57us/step - loss: 0.1046 - acc: 0.9602 - val_loss: 0.2874 - val_acc: 0.9123\n",
            "Epoch 59/100\n",
            "50000/50000 [==============================] - 3s 58us/step - loss: 0.1023 - acc: 0.9608 - val_loss: 0.3005 - val_acc: 0.9099\n",
            "Epoch 60/100\n",
            "50000/50000 [==============================] - 3s 55us/step - loss: 0.0988 - acc: 0.9625 - val_loss: 0.3090 - val_acc: 0.9107\n",
            "Epoch 61/100\n",
            "50000/50000 [==============================] - 3s 57us/step - loss: 0.1001 - acc: 0.9617 - val_loss: 0.2957 - val_acc: 0.9127\n",
            "Epoch 62/100\n",
            "50000/50000 [==============================] - 3s 56us/step - loss: 0.0956 - acc: 0.9637 - val_loss: 0.3021 - val_acc: 0.9119\n",
            "Epoch 63/100\n",
            "50000/50000 [==============================] - 3s 57us/step - loss: 0.0953 - acc: 0.9635 - val_loss: 0.3136 - val_acc: 0.9107\n",
            "Epoch 64/100\n",
            "50000/50000 [==============================] - 3s 57us/step - loss: 0.0943 - acc: 0.9642 - val_loss: 0.3137 - val_acc: 0.9103\n",
            "Epoch 65/100\n",
            "50000/50000 [==============================] - 3s 57us/step - loss: 0.0946 - acc: 0.9637 - val_loss: 0.3236 - val_acc: 0.9103\n",
            "Epoch 66/100\n",
            "50000/50000 [==============================] - 3s 56us/step - loss: 0.0924 - acc: 0.9647 - val_loss: 0.3156 - val_acc: 0.9106\n",
            "Epoch 67/100\n",
            "50000/50000 [==============================] - 3s 56us/step - loss: 0.0910 - acc: 0.9653 - val_loss: 0.3256 - val_acc: 0.9101\n",
            "Epoch 68/100\n",
            "50000/50000 [==============================] - 3s 56us/step - loss: 0.0895 - acc: 0.9659 - val_loss: 0.3259 - val_acc: 0.9101\n",
            "Epoch 69/100\n",
            "50000/50000 [==============================] - 3s 55us/step - loss: 0.0909 - acc: 0.9654 - val_loss: 0.3237 - val_acc: 0.9100\n",
            "Epoch 70/100\n",
            "50000/50000 [==============================] - 3s 55us/step - loss: 0.0902 - acc: 0.9660 - val_loss: 0.3318 - val_acc: 0.9098\n",
            "Epoch 71/100\n",
            "50000/50000 [==============================] - 3s 57us/step - loss: 0.0867 - acc: 0.9671 - val_loss: 0.3349 - val_acc: 0.9098\n",
            "Epoch 72/100\n",
            "50000/50000 [==============================] - 3s 57us/step - loss: 0.0861 - acc: 0.9673 - val_loss: 0.3445 - val_acc: 0.9091\n",
            "Epoch 73/100\n",
            "50000/50000 [==============================] - 3s 57us/step - loss: 0.0844 - acc: 0.9680 - val_loss: 0.3433 - val_acc: 0.9089\n",
            "Epoch 74/100\n",
            "50000/50000 [==============================] - 3s 56us/step - loss: 0.0848 - acc: 0.9677 - val_loss: 0.3536 - val_acc: 0.9079\n",
            "Epoch 75/100\n",
            "50000/50000 [==============================] - 3s 56us/step - loss: 0.0829 - acc: 0.9685 - val_loss: 0.3438 - val_acc: 0.9094\n",
            "Epoch 76/100\n",
            "50000/50000 [==============================] - 3s 58us/step - loss: 0.0789 - acc: 0.9703 - val_loss: 0.3612 - val_acc: 0.9087\n",
            "Epoch 77/100\n",
            "50000/50000 [==============================] - 3s 57us/step - loss: 0.0852 - acc: 0.9674 - val_loss: 0.3508 - val_acc: 0.9095\n",
            "Epoch 78/100\n",
            "50000/50000 [==============================] - 3s 58us/step - loss: 0.0810 - acc: 0.9693 - val_loss: 0.3511 - val_acc: 0.9094\n",
            "Epoch 79/100\n",
            "50000/50000 [==============================] - 3s 57us/step - loss: 0.0790 - acc: 0.9700 - val_loss: 0.3695 - val_acc: 0.9078\n",
            "Epoch 80/100\n",
            "50000/50000 [==============================] - 3s 56us/step - loss: 0.0771 - acc: 0.9709 - val_loss: 0.3685 - val_acc: 0.9069\n",
            "Epoch 81/100\n",
            "50000/50000 [==============================] - 3s 57us/step - loss: 0.0787 - acc: 0.9703 - val_loss: 0.3605 - val_acc: 0.9090\n",
            "Epoch 82/100\n",
            "50000/50000 [==============================] - 3s 58us/step - loss: 0.0746 - acc: 0.9720 - val_loss: 0.3742 - val_acc: 0.9081\n",
            "Epoch 83/100\n",
            "50000/50000 [==============================] - 3s 55us/step - loss: 0.0732 - acc: 0.9723 - val_loss: 0.3743 - val_acc: 0.9075\n",
            "Epoch 84/100\n",
            "50000/50000 [==============================] - 3s 56us/step - loss: 0.0727 - acc: 0.9724 - val_loss: 0.3832 - val_acc: 0.9060\n",
            "Epoch 85/100\n",
            "50000/50000 [==============================] - 3s 56us/step - loss: 0.0779 - acc: 0.9705 - val_loss: 0.3811 - val_acc: 0.9061\n",
            "Epoch 86/100\n",
            "50000/50000 [==============================] - 3s 57us/step - loss: 0.0801 - acc: 0.9694 - val_loss: 0.3745 - val_acc: 0.9069\n",
            "Epoch 87/100\n",
            "50000/50000 [==============================] - 3s 56us/step - loss: 0.0712 - acc: 0.9732 - val_loss: 0.3835 - val_acc: 0.9066\n",
            "Epoch 88/100\n",
            "50000/50000 [==============================] - 3s 56us/step - loss: 0.0702 - acc: 0.9735 - val_loss: 0.3907 - val_acc: 0.9051\n",
            "Epoch 89/100\n",
            "50000/50000 [==============================] - 3s 55us/step - loss: 0.0686 - acc: 0.9740 - val_loss: 0.3887 - val_acc: 0.9070\n",
            "Epoch 90/100\n",
            "50000/50000 [==============================] - 3s 55us/step - loss: 0.0711 - acc: 0.9730 - val_loss: 0.4024 - val_acc: 0.9072\n",
            "Epoch 91/100\n",
            "50000/50000 [==============================] - 3s 61us/step - loss: 0.0696 - acc: 0.9737 - val_loss: 0.3971 - val_acc: 0.9071\n",
            "Epoch 92/100\n",
            "50000/50000 [==============================] - 3s 60us/step - loss: 0.0677 - acc: 0.9745 - val_loss: 0.4022 - val_acc: 0.9063\n",
            "Epoch 93/100\n",
            "50000/50000 [==============================] - 3s 59us/step - loss: 0.0683 - acc: 0.9740 - val_loss: 0.3976 - val_acc: 0.9074\n",
            "Epoch 94/100\n",
            "50000/50000 [==============================] - 3s 56us/step - loss: 0.0643 - acc: 0.9760 - val_loss: 0.4068 - val_acc: 0.9070\n",
            "Epoch 95/100\n",
            "50000/50000 [==============================] - 3s 63us/step - loss: 0.0653 - acc: 0.9756 - val_loss: 0.4052 - val_acc: 0.9061\n",
            "Epoch 96/100\n",
            "50000/50000 [==============================] - 3s 68us/step - loss: 0.0716 - acc: 0.9728 - val_loss: 0.4225 - val_acc: 0.9057\n",
            "Epoch 97/100\n",
            "50000/50000 [==============================] - 3s 62us/step - loss: 0.0658 - acc: 0.9750 - val_loss: 0.4184 - val_acc: 0.9052\n",
            "Epoch 98/100\n",
            "50000/50000 [==============================] - 3s 59us/step - loss: 0.0624 - acc: 0.9767 - val_loss: 0.4228 - val_acc: 0.9056\n",
            "Epoch 99/100\n",
            "50000/50000 [==============================] - 3s 63us/step - loss: 0.0651 - acc: 0.9752 - val_loss: 0.4355 - val_acc: 0.9043\n",
            "Epoch 100/100\n",
            "50000/50000 [==============================] - 3s 60us/step - loss: 0.0648 - acc: 0.9756 - val_loss: 0.4200 - val_acc: 0.9058\n"
          ],
          "name": "stdout"
        },
        {
          "output_type": "execute_result",
          "data": {
            "text/plain": [
              "<keras.callbacks.History at 0x7f8bf01fb400>"
            ]
          },
          "metadata": {
            "tags": []
          },
          "execution_count": 70
        }
      ]
    },
    {
      "cell_type": "code",
      "metadata": {
        "id": "Q17b7lD0Q2Ov",
        "colab_type": "code",
        "outputId": "c667584e-0c8c-4d79-81e0-87b7a96a8888",
        "colab": {
          "base_uri": "https://localhost:8080/",
          "height": 545
        }
      },
      "source": [
        "import matplotlib.pyplot as plt\n",
        "\n",
        "\n",
        "train_loss = model.history.history[\"loss\"]\n",
        "valid_loss = model.history.history[\"val_loss\"]\n",
        "\n",
        "train_acc = model.history.history[\"acc\"]\n",
        "valid_acc = model.history.history[\"val_acc\"]\n",
        "\n",
        "plt.plot(range(len(train_loss)), train_loss, label=\"train loss\")\n",
        "plt.plot(range(len(valid_loss)), valid_loss, label=\"valid loss\")\n",
        "plt.legend()\n",
        "plt.title(\"Loss\")\n",
        "plt.show()\n",
        "\n",
        "plt.plot(range(len(train_acc)), train_acc, label=\"train accuracy\")\n",
        "plt.plot(range(len(valid_acc)), valid_acc, label=\"valid accuracy\")\n",
        "plt.legend()\n",
        "plt.title(\"Accuracy\")\n",
        "plt.show()"
      ],
      "execution_count": 72,
      "outputs": [
        {
          "output_type": "display_data",
          "data": {
            "image/png": "[encoded data removed]",
            "text/plain": [
              "<Figure size 432x288 with 1 Axes>"
            ]
          },
          "metadata": {
            "tags": []
          }
        },
        {
          "output_type": "display_data",
          "data": {
            "image/png": "[encoded data removed]",
            "text/plain": [
              "<Figure size 432x288 with 1 Axes>"
            ]
          },
          "metadata": {
            "tags": []
          }
        }
      ]
    }
  ]
}